{
 "cells": [
  {
   "cell_type": "code",
   "execution_count": 1,
   "metadata": {},
   "outputs": [],
   "source": [
    "import mne\n",
    "import warnings\n",
    "import numpy as np\n",
    "\n",
    "from sklearn.pipeline import Pipeline\n",
    "from sklearn.model_selection import cross_val_score, GridSearchCV\n",
    "from sklearn.linear_model import LogisticRegression\n",
    "from sklearn.discriminant_analysis import LinearDiscriminantAnalysis\n",
    "from sklearn.svm import SVC\n",
    "from sklearn.preprocessing import StandardScaler\n",
    "from sklearn.decomposition import PCA\n",
    "from sklearn.base import BaseEstimator, TransformerMixin, ClassifierMixin\n",
    "from sklearn.utils.validation import check_X_y, check_array, check_is_fitted\n",
    "from sklearn.exceptions import ConvergenceWarning\n",
    "from sklearn.ensemble import RandomForestClassifier\n",
    "from sklearn.decomposition import FastICA\n",
    "from sklearn.neural_network import MLPClassifier\n",
    "\n",
    "from mne import Epochs, pick_types, events_from_annotations\n",
    "from mne.channels import make_standard_montage\n",
    "from mne.io import concatenate_raws, read_raw_edf\n",
    "from mne.datasets import eegbci\n",
    "from mne.decoding import CSP\n",
    "from mne.preprocessing import ICA\n",
    "\n",
    "from utils.Pipeline import FourierTransform, Float64CSP, EEGStandardScaler, WaveletTransform\n",
    "from utils.Preprocessing import load_and_preprocess_data\n"
   ]
  },
  {
   "cell_type": "code",
   "execution_count": 2,
   "metadata": {},
   "outputs": [],
   "source": [
    "mne.set_log_level(\"CRITICAL\")\n",
    "\n",
    "# Suppress warnings from LogisticRegression and CSP\n",
    "warnings.filterwarnings(\"ignore\", category=UserWarning, module='sklearn.linear_model._logistic')\n",
    "warnings.filterwarnings(\"ignore\", category=ConvergenceWarning)\n",
    "warnings.filterwarnings(\"ignore\", category=UserWarning, module='mne')"
   ]
  },
  {
   "cell_type": "code",
   "execution_count": 3,
   "metadata": {},
   "outputs": [],
   "source": [
    "def model_pipeline(X_train_flattened, y_train,\n",
    "                   X_test_flattened, y_test):\n",
    "\n",
    "    pipeline = Pipeline([\n",
    "        ('scaler', StandardScaler()),               \n",
    "        ('pca', PCA(n_components=10)),\n",
    "        ('mlp', MLPClassifier(hidden_layer_sizes=(500, 50), max_iter=100))\n",
    "    ])\n",
    "\n",
    "    pipeline.fit(X_train_flattened, y_train)\n",
    "\n",
    "    train_accuracy = pipeline.score(X_train_flattened, y_train)\n",
    "    test_accuracy = pipeline.score(X_test_flattened, y_test)\n",
    "    cv_scores = cross_val_score(pipeline, X_train_flattened, y_train, cv=5)\n",
    "\n",
    "    cv_score = np.mean(cv_scores)\n",
    "\n",
    "    return test_accuracy, cv_score"
   ]
  },
  {
   "cell_type": "markdown",
   "metadata": {},
   "source": [
    "## Run experiments"
   ]
  },
  {
   "cell_type": "code",
   "execution_count": 4,
   "metadata": {},
   "outputs": [],
   "source": [
    "# Define subjects and runs for training and testing\n",
    "train_subjects = [57, 22, 86]\n",
    "train_tasks = {\n",
    "    'Task 1:\"Open and close fist\"': [3, 7, 11],\n",
    "    'Task 2:\"Imagine opening and closing fist\"': [4, 8, 12],\n",
    "    'Task 3:\"Open and close fists or feet\"': [5, 9, 13],\n",
    "    'Task 4:\"Imagine opening and closing fists or feet\"': [6, 10, 14]\n",
    "}\n",
    "\n",
    "test_subjects = [34]\n",
    "test_tasks = {\n",
    "    'Task 1:\"Open and close fist\"': [3],\n",
    "    'Task 2:\"Imagine opening and closing fist\"': [4],\n",
    "    'Task 3:\"Open and close fists or feet\"': [5],\n",
    "    'Task 4:\"Imagine opening and closing fists or feet\"': [6]\n",
    "}"
   ]
  },
  {
   "cell_type": "code",
   "execution_count": 5,
   "metadata": {},
   "outputs": [
    {
     "name": "stdout",
     "output_type": "stream",
     "text": [
      "\n",
      "Processing Task 1...\n",
      "\n",
      "Experiment \"Open and close fist\":\n",
      "Test accuracy: 0.77, CV score: 0.73\n",
      "\n",
      "Processing Task 2...\n",
      "\n",
      "Experiment \"Imagine opening and closing fist\":\n",
      "Test accuracy: 0.71, CV score: 0.81\n",
      "\n",
      "Processing Task 3...\n",
      "\n",
      "Experiment \"Open and close fists or feet\":\n",
      "Test accuracy: 0.68, CV score: 0.66\n",
      "\n",
      "Processing Task 4...\n",
      "\n",
      "Experiment \"Imagine opening and closing fists or feet\":\n",
      "Test accuracy: 0.71, CV score: 0.70\n",
      "\n",
      "MEAN:\n",
      "Test accuracy: 0.72, CV score: 0.73\n"
     ]
    }
   ],
   "source": [
    "test_accuracy = []\n",
    "cv_scores = []\n",
    "\n",
    "\n",
    "for task_name in train_tasks:\n",
    "    \n",
    "    train_runs = train_tasks[task_name]\n",
    "    test_runs = test_tasks[task_name]\n",
    "\n",
    "    print(f'\\nProcessing {task_name.split(\":\")[0]}...')\n",
    "\n",
    "    train_epochs = load_and_preprocess_data(train_subjects, train_runs)\n",
    "    X_train = train_epochs.get_data().astype('float64')\n",
    "    y_train = train_epochs.events[:, -1]\n",
    "\n",
    "    test_epochs = load_and_preprocess_data(test_subjects, test_runs)\n",
    "    X_test = test_epochs.get_data().astype('float64')\n",
    "    y_test = test_epochs.events[:, -1]\n",
    "\n",
    "    X_train_flattened = X_train.reshape(X_train.shape[0], -1)\n",
    "    X_test_flattened = X_test.reshape(X_test.shape[0], -1)\n",
    "\n",
    "    test_acc, cv_sc = model_pipeline(X_train_flattened, y_train, X_test_flattened, y_test)\n",
    "\n",
    "    print(f\"\\nExperiment {task_name.split(':')[1]}:\")\n",
    "    print(f\"Test accuracy: {test_acc:.2f}, CV score: {cv_sc:.2f}\")\n",
    "    test_accuracy.append(test_acc)\n",
    "    cv_scores.append(cv_sc)\n",
    "\n",
    "\n",
    "print(f\"\\nMEAN:\\nTest accuracy: {np.mean(test_accuracy):.2f}, CV score: {np.mean(cv_scores):.2f}\")"
   ]
  },
  {
   "cell_type": "code",
   "execution_count": null,
   "metadata": {},
   "outputs": [],
   "source": []
  }
 ],
 "metadata": {
  "kernelspec": {
   "display_name": "Python 3",
   "language": "python",
   "name": "python3"
  },
  "language_info": {
   "codemirror_mode": {
    "name": "ipython",
    "version": 3
   },
   "file_extension": ".py",
   "mimetype": "text/x-python",
   "name": "python",
   "nbconvert_exporter": "python",
   "pygments_lexer": "ipython3",
   "version": "3.12.5"
  }
 },
 "nbformat": 4,
 "nbformat_minor": 2
}
