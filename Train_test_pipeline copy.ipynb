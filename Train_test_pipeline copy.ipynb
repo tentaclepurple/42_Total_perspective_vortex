{
 "cells": [
  {
   "cell_type": "code",
   "execution_count": 1,
   "metadata": {},
   "outputs": [
    {
     "name": "stdout",
     "output_type": "stream",
     "text": [
      "Looking in indexes: https://pypi.python.org/simple\n",
      "Requirement already satisfied: mne==1.8.0 in /sgoinfre/students/imontero/miniforge3/lib/python3.12/site-packages (from -r requirements.txt (line 1)) (1.8.0)\n",
      "Requirement already satisfied: pandas==2.2.3 in /sgoinfre/students/imontero/miniforge3/lib/python3.12/site-packages (from -r requirements.txt (line 2)) (2.2.3)\n",
      "Requirement already satisfied: scikit-learn==1.5.2 in /sgoinfre/students/imontero/miniforge3/lib/python3.12/site-packages (from -r requirements.txt (line 3)) (1.5.2)\n",
      "Requirement already satisfied: PyWavelets==1.7.0 in /sgoinfre/students/imontero/miniforge3/lib/python3.12/site-packages (from -r requirements.txt (line 4)) (1.7.0)\n",
      "Requirement already satisfied: tensorflow==2.17.0 in /sgoinfre/students/imontero/miniforge3/lib/python3.12/site-packages (from -r requirements.txt (line 5)) (2.17.0)\n",
      "Requirement already satisfied: tensorflow-io-gcs-filesystem==0.37.1 in /sgoinfre/students/imontero/miniforge3/lib/python3.12/site-packages (from -r requirements.txt (line 6)) (0.37.1)\n",
      "Requirement already satisfied: decorator in /sgoinfre/students/imontero/miniforge3/lib/python3.12/site-packages (from mne==1.8.0->-r requirements.txt (line 1)) (5.1.1)\n",
      "Requirement already satisfied: jinja2 in /sgoinfre/students/imontero/miniforge3/lib/python3.12/site-packages (from mne==1.8.0->-r requirements.txt (line 1)) (3.1.4)\n",
      "Requirement already satisfied: lazy-loader>=0.3 in /sgoinfre/students/imontero/miniforge3/lib/python3.12/site-packages (from mne==1.8.0->-r requirements.txt (line 1)) (0.4)\n",
      "Requirement already satisfied: matplotlib>=3.6 in /sgoinfre/students/imontero/miniforge3/lib/python3.12/site-packages (from mne==1.8.0->-r requirements.txt (line 1)) (3.9.2)\n",
      "Requirement already satisfied: numpy<3,>=1.23 in /sgoinfre/students/imontero/miniforge3/lib/python3.12/site-packages (from mne==1.8.0->-r requirements.txt (line 1)) (1.26.4)\n",
      "Requirement already satisfied: packaging in /sgoinfre/students/imontero/miniforge3/lib/python3.12/site-packages (from mne==1.8.0->-r requirements.txt (line 1)) (24.1)\n",
      "Requirement already satisfied: pooch>=1.5 in /sgoinfre/students/imontero/miniforge3/lib/python3.12/site-packages (from mne==1.8.0->-r requirements.txt (line 1)) (1.8.2)\n",
      "Requirement already satisfied: scipy>=1.9 in /sgoinfre/students/imontero/miniforge3/lib/python3.12/site-packages (from mne==1.8.0->-r requirements.txt (line 1)) (1.14.1)\n",
      "Requirement already satisfied: tqdm in /sgoinfre/students/imontero/miniforge3/lib/python3.12/site-packages (from mne==1.8.0->-r requirements.txt (line 1)) (4.66.5)\n",
      "Requirement already satisfied: python-dateutil>=2.8.2 in /sgoinfre/students/imontero/miniforge3/lib/python3.12/site-packages (from pandas==2.2.3->-r requirements.txt (line 2)) (2.9.0.post0)\n",
      "Requirement already satisfied: pytz>=2020.1 in /sgoinfre/students/imontero/miniforge3/lib/python3.12/site-packages (from pandas==2.2.3->-r requirements.txt (line 2)) (2024.2)\n",
      "Requirement already satisfied: tzdata>=2022.7 in /sgoinfre/students/imontero/miniforge3/lib/python3.12/site-packages (from pandas==2.2.3->-r requirements.txt (line 2)) (2024.2)\n",
      "Requirement already satisfied: joblib>=1.2.0 in /sgoinfre/students/imontero/miniforge3/lib/python3.12/site-packages (from scikit-learn==1.5.2->-r requirements.txt (line 3)) (1.4.2)\n",
      "Requirement already satisfied: threadpoolctl>=3.1.0 in /sgoinfre/students/imontero/miniforge3/lib/python3.12/site-packages (from scikit-learn==1.5.2->-r requirements.txt (line 3)) (3.5.0)\n",
      "Requirement already satisfied: absl-py>=1.0.0 in /sgoinfre/students/imontero/miniforge3/lib/python3.12/site-packages (from tensorflow==2.17.0->-r requirements.txt (line 5)) (2.1.0)\n",
      "Requirement already satisfied: astunparse>=1.6.0 in /sgoinfre/students/imontero/miniforge3/lib/python3.12/site-packages (from tensorflow==2.17.0->-r requirements.txt (line 5)) (1.6.3)\n",
      "Requirement already satisfied: flatbuffers>=24.3.25 in /sgoinfre/students/imontero/miniforge3/lib/python3.12/site-packages (from tensorflow==2.17.0->-r requirements.txt (line 5)) (24.3.25)\n",
      "Requirement already satisfied: gast!=0.5.0,!=0.5.1,!=0.5.2,>=0.2.1 in /sgoinfre/students/imontero/miniforge3/lib/python3.12/site-packages (from tensorflow==2.17.0->-r requirements.txt (line 5)) (0.6.0)\n",
      "Requirement already satisfied: google-pasta>=0.1.1 in /sgoinfre/students/imontero/miniforge3/lib/python3.12/site-packages (from tensorflow==2.17.0->-r requirements.txt (line 5)) (0.2.0)\n",
      "Requirement already satisfied: h5py>=3.10.0 in /sgoinfre/students/imontero/miniforge3/lib/python3.12/site-packages (from tensorflow==2.17.0->-r requirements.txt (line 5)) (3.12.1)\n",
      "Requirement already satisfied: libclang>=13.0.0 in /sgoinfre/students/imontero/miniforge3/lib/python3.12/site-packages (from tensorflow==2.17.0->-r requirements.txt (line 5)) (18.1.1)\n",
      "Requirement already satisfied: ml-dtypes<0.5.0,>=0.3.1 in /sgoinfre/students/imontero/miniforge3/lib/python3.12/site-packages (from tensorflow==2.17.0->-r requirements.txt (line 5)) (0.4.1)\n",
      "Requirement already satisfied: opt-einsum>=2.3.2 in /sgoinfre/students/imontero/miniforge3/lib/python3.12/site-packages (from tensorflow==2.17.0->-r requirements.txt (line 5)) (3.4.0)\n",
      "Requirement already satisfied: protobuf!=4.21.0,!=4.21.1,!=4.21.2,!=4.21.3,!=4.21.4,!=4.21.5,<5.0.0dev,>=3.20.3 in /sgoinfre/students/imontero/miniforge3/lib/python3.12/site-packages (from tensorflow==2.17.0->-r requirements.txt (line 5)) (4.25.5)\n",
      "Requirement already satisfied: requests<3,>=2.21.0 in /sgoinfre/students/imontero/miniforge3/lib/python3.12/site-packages (from tensorflow==2.17.0->-r requirements.txt (line 5)) (2.32.3)\n",
      "Requirement already satisfied: setuptools in /sgoinfre/students/imontero/miniforge3/lib/python3.12/site-packages (from tensorflow==2.17.0->-r requirements.txt (line 5)) (73.0.1)\n",
      "Requirement already satisfied: six>=1.12.0 in /sgoinfre/students/imontero/miniforge3/lib/python3.12/site-packages (from tensorflow==2.17.0->-r requirements.txt (line 5)) (1.16.0)\n",
      "Requirement already satisfied: termcolor>=1.1.0 in /sgoinfre/students/imontero/miniforge3/lib/python3.12/site-packages (from tensorflow==2.17.0->-r requirements.txt (line 5)) (2.5.0)\n",
      "Requirement already satisfied: typing-extensions>=3.6.6 in /sgoinfre/students/imontero/miniforge3/lib/python3.12/site-packages (from tensorflow==2.17.0->-r requirements.txt (line 5)) (4.12.2)\n",
      "Requirement already satisfied: wrapt>=1.11.0 in /sgoinfre/students/imontero/miniforge3/lib/python3.12/site-packages (from tensorflow==2.17.0->-r requirements.txt (line 5)) (1.16.0)\n",
      "Requirement already satisfied: grpcio<2.0,>=1.24.3 in /sgoinfre/students/imontero/miniforge3/lib/python3.12/site-packages (from tensorflow==2.17.0->-r requirements.txt (line 5)) (1.66.2)\n",
      "Requirement already satisfied: tensorboard<2.18,>=2.17 in /sgoinfre/students/imontero/miniforge3/lib/python3.12/site-packages (from tensorflow==2.17.0->-r requirements.txt (line 5)) (2.17.1)\n",
      "Requirement already satisfied: keras>=3.2.0 in /sgoinfre/students/imontero/miniforge3/lib/python3.12/site-packages (from tensorflow==2.17.0->-r requirements.txt (line 5)) (3.6.0)\n",
      "Requirement already satisfied: wheel<1.0,>=0.23.0 in /sgoinfre/students/imontero/miniforge3/lib/python3.12/site-packages (from astunparse>=1.6.0->tensorflow==2.17.0->-r requirements.txt (line 5)) (0.44.0)\n",
      "Requirement already satisfied: rich in /sgoinfre/students/imontero/miniforge3/lib/python3.12/site-packages (from keras>=3.2.0->tensorflow==2.17.0->-r requirements.txt (line 5)) (13.9.2)\n",
      "Requirement already satisfied: namex in /sgoinfre/students/imontero/miniforge3/lib/python3.12/site-packages (from keras>=3.2.0->tensorflow==2.17.0->-r requirements.txt (line 5)) (0.0.8)\n",
      "Requirement already satisfied: optree in /sgoinfre/students/imontero/miniforge3/lib/python3.12/site-packages (from keras>=3.2.0->tensorflow==2.17.0->-r requirements.txt (line 5)) (0.13.0)\n",
      "Requirement already satisfied: contourpy>=1.0.1 in /sgoinfre/students/imontero/miniforge3/lib/python3.12/site-packages (from matplotlib>=3.6->mne==1.8.0->-r requirements.txt (line 1)) (1.3.0)\n",
      "Requirement already satisfied: cycler>=0.10 in /sgoinfre/students/imontero/miniforge3/lib/python3.12/site-packages (from matplotlib>=3.6->mne==1.8.0->-r requirements.txt (line 1)) (0.12.1)\n",
      "Requirement already satisfied: fonttools>=4.22.0 in /sgoinfre/students/imontero/miniforge3/lib/python3.12/site-packages (from matplotlib>=3.6->mne==1.8.0->-r requirements.txt (line 1)) (4.54.1)\n",
      "Requirement already satisfied: kiwisolver>=1.3.1 in /sgoinfre/students/imontero/miniforge3/lib/python3.12/site-packages (from matplotlib>=3.6->mne==1.8.0->-r requirements.txt (line 1)) (1.4.7)\n",
      "Requirement already satisfied: pillow>=8 in /sgoinfre/students/imontero/miniforge3/lib/python3.12/site-packages (from matplotlib>=3.6->mne==1.8.0->-r requirements.txt (line 1)) (10.4.0)\n",
      "Requirement already satisfied: pyparsing>=2.3.1 in /sgoinfre/students/imontero/miniforge3/lib/python3.12/site-packages (from matplotlib>=3.6->mne==1.8.0->-r requirements.txt (line 1)) (3.1.4)\n",
      "Requirement already satisfied: platformdirs>=2.5.0 in /sgoinfre/students/imontero/miniforge3/lib/python3.12/site-packages (from pooch>=1.5->mne==1.8.0->-r requirements.txt (line 1)) (4.2.2)\n",
      "Requirement already satisfied: charset-normalizer<4,>=2 in /sgoinfre/students/imontero/miniforge3/lib/python3.12/site-packages (from requests<3,>=2.21.0->tensorflow==2.17.0->-r requirements.txt (line 5)) (3.3.2)\n",
      "Requirement already satisfied: idna<4,>=2.5 in /sgoinfre/students/imontero/miniforge3/lib/python3.12/site-packages (from requests<3,>=2.21.0->tensorflow==2.17.0->-r requirements.txt (line 5)) (3.10)\n",
      "Requirement already satisfied: urllib3<3,>=1.21.1 in /sgoinfre/students/imontero/miniforge3/lib/python3.12/site-packages (from requests<3,>=2.21.0->tensorflow==2.17.0->-r requirements.txt (line 5)) (2.2.3)\n",
      "Requirement already satisfied: certifi>=2017.4.17 in /sgoinfre/students/imontero/miniforge3/lib/python3.12/site-packages (from requests<3,>=2.21.0->tensorflow==2.17.0->-r requirements.txt (line 5)) (2024.8.30)\n",
      "Requirement already satisfied: markdown>=2.6.8 in /sgoinfre/students/imontero/miniforge3/lib/python3.12/site-packages (from tensorboard<2.18,>=2.17->tensorflow==2.17.0->-r requirements.txt (line 5)) (3.7)\n",
      "Requirement already satisfied: tensorboard-data-server<0.8.0,>=0.7.0 in /sgoinfre/students/imontero/miniforge3/lib/python3.12/site-packages (from tensorboard<2.18,>=2.17->tensorflow==2.17.0->-r requirements.txt (line 5)) (0.7.2)\n",
      "Requirement already satisfied: werkzeug>=1.0.1 in /sgoinfre/students/imontero/miniforge3/lib/python3.12/site-packages (from tensorboard<2.18,>=2.17->tensorflow==2.17.0->-r requirements.txt (line 5)) (3.0.4)\n",
      "Requirement already satisfied: MarkupSafe>=2.0 in /sgoinfre/students/imontero/miniforge3/lib/python3.12/site-packages (from jinja2->mne==1.8.0->-r requirements.txt (line 1)) (2.1.5)\n",
      "Requirement already satisfied: markdown-it-py>=2.2.0 in /sgoinfre/students/imontero/miniforge3/lib/python3.12/site-packages (from rich->keras>=3.2.0->tensorflow==2.17.0->-r requirements.txt (line 5)) (3.0.0)\n",
      "Requirement already satisfied: pygments<3.0.0,>=2.13.0 in /sgoinfre/students/imontero/miniforge3/lib/python3.12/site-packages (from rich->keras>=3.2.0->tensorflow==2.17.0->-r requirements.txt (line 5)) (2.18.0)\n",
      "Requirement already satisfied: mdurl~=0.1 in /sgoinfre/students/imontero/miniforge3/lib/python3.12/site-packages (from markdown-it-py>=2.2.0->rich->keras>=3.2.0->tensorflow==2.17.0->-r requirements.txt (line 5)) (0.1.2)\n"
     ]
    }
   ],
   "source": [
    "#!pip install -r requirements.txt"
   ]
  },
  {
   "cell_type": "code",
   "execution_count": 2,
   "metadata": {},
   "outputs": [],
   "source": [
    "import mne\n",
    "import warnings\n",
    "import numpy as np\n",
    "\n",
    "\n",
    "from sklearn.pipeline import Pipeline\n",
    "from sklearn.model_selection import cross_val_score, GridSearchCV\n",
    "from sklearn.linear_model import LogisticRegression\n",
    "from sklearn.discriminant_analysis import LinearDiscriminantAnalysis\n",
    "from sklearn.svm import SVC\n",
    "from sklearn.preprocessing import StandardScaler\n",
    "from sklearn.decomposition import PCA\n",
    "from sklearn.base import BaseEstimator, TransformerMixin, ClassifierMixin\n",
    "from sklearn.utils.validation import check_X_y, check_array, check_is_fitted\n",
    "from sklearn.exceptions import ConvergenceWarning\n",
    "from sklearn.ensemble import RandomForestClassifier\n",
    "from sklearn.decomposition import FastICA\n",
    "from sklearn.neural_network import MLPClassifier\n",
    "\n",
    "from mne import Epochs, pick_types, events_from_annotations\n",
    "from mne.channels import make_standard_montage\n",
    "from mne.io import concatenate_raws, read_raw_edf\n",
    "from mne.datasets import eegbci\n",
    "from mne.decoding import CSP\n",
    "from mne.preprocessing import ICA\n",
    "\n",
    "from utils.Pipeline import FourierTransform, Float64CSP, EEGStandardScaler, WaveletTransform\n",
    "from utils.Preprocessing import load_and_preprocess_data\n"
   ]
  },
  {
   "cell_type": "code",
   "execution_count": 3,
   "metadata": {},
   "outputs": [],
   "source": [
    "mne.set_log_level(\"CRITICAL\")\n",
    "\n",
    "# Suppress warnings from LogisticRegression and CSP\n",
    "warnings.filterwarnings(\"ignore\", category=UserWarning, module='sklearn.linear_model._logistic')\n",
    "warnings.filterwarnings(\"ignore\", category=ConvergenceWarning)\n",
    "warnings.filterwarnings(\"ignore\", category=UserWarning, module='mne')"
   ]
  },
  {
   "cell_type": "code",
   "execution_count": 4,
   "metadata": {},
   "outputs": [],
   "source": [
    "# Define subjects and runs for training and testing\n",
    "train_subjects = [57, 22, 86]\n",
    "train_tasks = {\n",
    "    'Task 1': [3, 7, 11],\n",
    "    'Task 2': [4, 8, 12],\n",
    "    'Task 3': [5, 9, 13],\n",
    "    'Task 4': [6, 10, 14]\n",
    "}\n",
    "\n",
    "test_subjects = [34]\n",
    "test_tasks = {\n",
    "    'Task 1': [3],\n",
    "    'Task 2': [4],\n",
    "    'Task 3': [5],\n",
    "    'Task 4': [6]\n",
    "}"
   ]
  },
  {
   "cell_type": "code",
   "execution_count": 5,
   "metadata": {},
   "outputs": [
    {
     "data": {
      "text/plain": [
       "(195, 64, 481)"
      ]
     },
     "metadata": {},
     "output_type": "display_data"
    },
    {
     "data": {
      "text/plain": [
       "(195,)"
      ]
     },
     "metadata": {},
     "output_type": "display_data"
    },
    {
     "data": {
      "text/plain": [
       "(22, 64, 481)"
      ]
     },
     "metadata": {},
     "output_type": "display_data"
    },
    {
     "data": {
      "text/plain": [
       "(22,)"
      ]
     },
     "metadata": {},
     "output_type": "display_data"
    }
   ],
   "source": [
    "#task_1 (open and close left or right fist)\n",
    "train_runs = train_tasks['Task 1']\n",
    "train_epochs = load_and_preprocess_data(train_subjects, train_runs)\n",
    "\n",
    "X_train = train_epochs.get_data().astype('float64')\n",
    "y_train = train_epochs.events[:, -1]\n",
    "\n",
    "display(X_train.shape)\n",
    "display(y_train.shape)\n",
    "\n",
    "\n",
    "test_runs = test_tasks['Task 1']\n",
    "test_epochs = load_and_preprocess_data(test_subjects, test_runs)\n",
    "\n",
    "X_test = test_epochs.get_data().astype('float64')\n",
    "y_test = test_epochs.events[:, -1]\n",
    "\n",
    "display(X_test.shape)\n",
    "display(y_test.shape)"
   ]
  },
  {
   "cell_type": "code",
   "execution_count": 6,
   "metadata": {},
   "outputs": [
    {
     "data": {
      "text/plain": [
       "(195, 30784)"
      ]
     },
     "metadata": {},
     "output_type": "display_data"
    },
    {
     "data": {
      "text/plain": [
       "(195, 64, 481)"
      ]
     },
     "metadata": {},
     "output_type": "display_data"
    },
    {
     "data": {
      "text/plain": [
       "(22, 30784)"
      ]
     },
     "metadata": {},
     "output_type": "display_data"
    }
   ],
   "source": [
    "# Aplanar los datos de entrenamiento\n",
    "X_train_flattened = X_train.reshape(X_train.shape[0], -1)\n",
    "X_test_flattened = X_test.reshape(X_test.shape[0], -1)\n",
    "\n",
    "# Visualizar las nuevas formas\n",
    "display(X_train_flattened.shape)\n",
    "display(X_train.shape)\n",
    "\n",
    "display(X_test_flattened.shape)\n"
   ]
  },
  {
   "cell_type": "markdown",
   "metadata": {},
   "source": [
    "-----"
   ]
  },
  {
   "cell_type": "markdown",
   "metadata": {},
   "source": [
    "------"
   ]
  },
  {
   "cell_type": "markdown",
   "metadata": {},
   "source": [
    "---"
   ]
  },
  {
   "cell_type": "code",
   "execution_count": 11,
   "metadata": {},
   "outputs": [
    {
     "name": "stdout",
     "output_type": "stream",
     "text": [
      "Precisión en entrenamiento: 1.00\n",
      "Precisión en prueba: 0.64\n",
      "Precisión en cada pliegue: [0.71794872 0.76923077 0.82051282 0.87179487 0.79487179]\n",
      "Precisión media: 0.79\n"
     ]
    }
   ],
   "source": [
    "wave_mlp = Pipeline([             # Paso 2: Estandarización\n",
    "    ('wavelet', WaveletTransform()),            # Paso 4: Reducción de dimensionalidad con PCA\n",
    "    ('mlp', MLPClassifier(hidden_layer_sizes=(100, 50), max_iter=500))  # Paso 5: Red Neuronal\n",
    "])\n",
    "\n",
    "mlp.fit(X_train, y_train)\n",
    "# Evaluar el modelo en el conjunto de prueba\n",
    "train_accuracy = mlp.score(X_train, y_train)\n",
    "test_accuracy = mlp.score(X_test, y_test)\n",
    "\n",
    "# Imprimir las precisiones\n",
    "print(f\"Precisión en entrenamiento: {train_accuracy:.2f}\")\n",
    "print(f\"Precisión en prueba: {test_accuracy:.2f}\")\n",
    "\n",
    "\n",
    "cv_scores = cross_val_score(mlp, X_train, y_train, cv=5)\n",
    "\n",
    "print(f\"Precisión en cada pliegue: {cv_scores}\")\n",
    "print(f\"Precisión media: {np.mean(cv_scores):.2f}\")"
   ]
  },
  {
   "cell_type": "code",
   "execution_count": 8,
   "metadata": {},
   "outputs": [
    {
     "name": "stdout",
     "output_type": "stream",
     "text": [
      "Precisión en entrenamiento: 1.00\n",
      "Precisión en prueba: 0.73\n",
      "Precisión en cada pliegue: [0.58974359 0.76923077 0.69230769 0.76923077 0.74358974]\n",
      "Precisión media: 0.71\n"
     ]
    }
   ],
   "source": [
    "mlp = Pipeline([\n",
    "    ('scaler', StandardScaler()),               # Paso 2: Estandarización\n",
    "    #('ica', FastICA(n_components=20, random_state=42)),  # Paso 3: Análisis de Componentes Independientes\n",
    "    ('pca', PCA(n_components=10)),              # Paso 4: Reducción de dimensionalidad con PCA\n",
    "    ('mlp', MLPClassifier(hidden_layer_sizes=(100, 50), max_iter=500))  # Paso 5: Red Neuronal\n",
    "])\n",
    "\n",
    "mlp.fit(X_train_flattened, y_train)\n",
    "# Evaluar el modelo en el conjunto de prueba\n",
    "train_accuracy = mlp.score(X_train_flattened, y_train)\n",
    "test_accuracy = mlp.score(X_test_flattened, y_test)\n",
    "\n",
    "# Imprimir las precisiones\n",
    "print(f\"Precisión en entrenamiento: {train_accuracy:.2f}\")\n",
    "print(f\"Precisión en prueba: {test_accuracy:.2f}\")\n",
    "\n",
    "\n",
    "cv_scores = cross_val_score(mlp, X_train_flattened, y_train, cv=5)\n",
    "\n",
    "print(f\"Precisión en cada pliegue: {cv_scores}\")\n",
    "print(f\"Precisión media: {np.mean(cv_scores):.2f}\")"
   ]
  },
  {
   "cell_type": "code",
   "execution_count": 7,
   "metadata": {},
   "outputs": [
    {
     "name": "stdout",
     "output_type": "stream",
     "text": [
      "Precisión en entrenamiento: 1.00\n",
      "Precisión en prueba: 0.64\n",
      "Precisión en cada pliegue: [0.74358974 0.82051282 0.82051282 0.87179487 0.79487179]\n",
      "Precisión media: 0.81\n"
     ]
    }
   ],
   "source": [
    "mlp = Pipeline([\n",
    "    ('scaler', StandardScaler()),               # Paso 2: Estandarización\n",
    "    #('ica', FastICA(n_components=20, random_state=42)),  # Paso 3: Análisis de Componentes Independientes\n",
    "    #('pca', PCA(n_components=10)),              # Paso 4: Reducción de dimensionalidad con PCA\n",
    "    ('mlp', MLPClassifier(hidden_layer_sizes=(100, 50), max_iter=500))  # Paso 5: Red Neuronal\n",
    "])\n",
    "\n",
    "mlp.fit(X_train_flattened, y_train)\n",
    "# Evaluar el modelo en el conjunto de prueba\n",
    "train_accuracy = mlp.score(X_train_flattened, y_train)\n",
    "test_accuracy = mlp.score(X_test_flattened, y_test)\n",
    "\n",
    "# Imprimir las precisiones\n",
    "print(f\"Precisión en entrenamiento: {train_accuracy:.2f}\")\n",
    "print(f\"Precisión en prueba: {test_accuracy:.2f}\")\n",
    "\n",
    "\n",
    "cv_scores = cross_val_score(mlp, X_train_flattened, y_train, cv=5)\n",
    "\n",
    "print(f\"Precisión en cada pliegue: {cv_scores}\")\n",
    "print(f\"Precisión media: {np.mean(cv_scores):.2f}\")"
   ]
  },
  {
   "cell_type": "code",
   "execution_count": null,
   "metadata": {},
   "outputs": [],
   "source": []
  }
 ],
 "metadata": {
  "kernelspec": {
   "display_name": "Python 3",
   "language": "python",
   "name": "python3"
  },
  "language_info": {
   "codemirror_mode": {
    "name": "ipython",
    "version": 3
   },
   "file_extension": ".py",
   "mimetype": "text/x-python",
   "name": "python",
   "nbconvert_exporter": "python",
   "pygments_lexer": "ipython3",
   "version": "3.12.5"
  }
 },
 "nbformat": 4,
 "nbformat_minor": 2
}
