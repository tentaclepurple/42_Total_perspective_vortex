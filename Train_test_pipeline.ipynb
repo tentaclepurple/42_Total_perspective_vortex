{
 "cells": [
  {
   "cell_type": "code",
   "execution_count": 2,
   "metadata": {},
   "outputs": [
    {
     "name": "stdout",
     "output_type": "stream",
     "text": [
      "Looking in indexes: https://pypi.python.org/simple\n",
      "Requirement already satisfied: mne==1.8.0 in /sgoinfre/students/imontero/miniforge3/lib/python3.12/site-packages (from -r requirements.txt (line 1)) (1.8.0)\n",
      "Requirement already satisfied: pandas==2.2.3 in /sgoinfre/students/imontero/miniforge3/lib/python3.12/site-packages (from -r requirements.txt (line 2)) (2.2.3)\n",
      "Requirement already satisfied: scikit-learn==1.5.2 in /sgoinfre/students/imontero/miniforge3/lib/python3.12/site-packages (from -r requirements.txt (line 3)) (1.5.2)\n",
      "Requirement already satisfied: PyWavelets==1.7.0 in /sgoinfre/students/imontero/miniforge3/lib/python3.12/site-packages (from -r requirements.txt (line 4)) (1.7.0)\n",
      "Requirement already satisfied: tensorflow==2.17.0 in /sgoinfre/students/imontero/miniforge3/lib/python3.12/site-packages (from -r requirements.txt (line 5)) (2.17.0)\n",
      "Requirement already satisfied: tensorflow-io-gcs-filesystem==0.37.1 in /sgoinfre/students/imontero/miniforge3/lib/python3.12/site-packages (from -r requirements.txt (line 6)) (0.37.1)\n",
      "Requirement already satisfied: decorator in /sgoinfre/students/imontero/miniforge3/lib/python3.12/site-packages (from mne==1.8.0->-r requirements.txt (line 1)) (5.1.1)\n",
      "Requirement already satisfied: jinja2 in /sgoinfre/students/imontero/miniforge3/lib/python3.12/site-packages (from mne==1.8.0->-r requirements.txt (line 1)) (3.1.4)\n",
      "Requirement already satisfied: lazy-loader>=0.3 in /sgoinfre/students/imontero/miniforge3/lib/python3.12/site-packages (from mne==1.8.0->-r requirements.txt (line 1)) (0.4)\n",
      "Requirement already satisfied: matplotlib>=3.6 in /sgoinfre/students/imontero/miniforge3/lib/python3.12/site-packages (from mne==1.8.0->-r requirements.txt (line 1)) (3.9.2)\n",
      "Requirement already satisfied: numpy<3,>=1.23 in /sgoinfre/students/imontero/miniforge3/lib/python3.12/site-packages (from mne==1.8.0->-r requirements.txt (line 1)) (1.26.4)\n",
      "Requirement already satisfied: packaging in /sgoinfre/students/imontero/miniforge3/lib/python3.12/site-packages (from mne==1.8.0->-r requirements.txt (line 1)) (24.1)\n",
      "Requirement already satisfied: pooch>=1.5 in /sgoinfre/students/imontero/miniforge3/lib/python3.12/site-packages (from mne==1.8.0->-r requirements.txt (line 1)) (1.8.2)\n",
      "Requirement already satisfied: scipy>=1.9 in /sgoinfre/students/imontero/miniforge3/lib/python3.12/site-packages (from mne==1.8.0->-r requirements.txt (line 1)) (1.14.1)\n",
      "Requirement already satisfied: tqdm in /sgoinfre/students/imontero/miniforge3/lib/python3.12/site-packages (from mne==1.8.0->-r requirements.txt (line 1)) (4.66.5)\n",
      "Requirement already satisfied: python-dateutil>=2.8.2 in /sgoinfre/students/imontero/miniforge3/lib/python3.12/site-packages (from pandas==2.2.3->-r requirements.txt (line 2)) (2.9.0.post0)\n",
      "Requirement already satisfied: pytz>=2020.1 in /sgoinfre/students/imontero/miniforge3/lib/python3.12/site-packages (from pandas==2.2.3->-r requirements.txt (line 2)) (2024.2)\n",
      "Requirement already satisfied: tzdata>=2022.7 in /sgoinfre/students/imontero/miniforge3/lib/python3.12/site-packages (from pandas==2.2.3->-r requirements.txt (line 2)) (2024.2)\n",
      "Requirement already satisfied: joblib>=1.2.0 in /sgoinfre/students/imontero/miniforge3/lib/python3.12/site-packages (from scikit-learn==1.5.2->-r requirements.txt (line 3)) (1.4.2)\n",
      "Requirement already satisfied: threadpoolctl>=3.1.0 in /sgoinfre/students/imontero/miniforge3/lib/python3.12/site-packages (from scikit-learn==1.5.2->-r requirements.txt (line 3)) (3.5.0)\n",
      "Requirement already satisfied: absl-py>=1.0.0 in /sgoinfre/students/imontero/miniforge3/lib/python3.12/site-packages (from tensorflow==2.17.0->-r requirements.txt (line 5)) (2.1.0)\n",
      "Requirement already satisfied: astunparse>=1.6.0 in /sgoinfre/students/imontero/miniforge3/lib/python3.12/site-packages (from tensorflow==2.17.0->-r requirements.txt (line 5)) (1.6.3)\n",
      "Requirement already satisfied: flatbuffers>=24.3.25 in /sgoinfre/students/imontero/miniforge3/lib/python3.12/site-packages (from tensorflow==2.17.0->-r requirements.txt (line 5)) (24.3.25)\n",
      "Requirement already satisfied: gast!=0.5.0,!=0.5.1,!=0.5.2,>=0.2.1 in /sgoinfre/students/imontero/miniforge3/lib/python3.12/site-packages (from tensorflow==2.17.0->-r requirements.txt (line 5)) (0.6.0)\n",
      "Requirement already satisfied: google-pasta>=0.1.1 in /sgoinfre/students/imontero/miniforge3/lib/python3.12/site-packages (from tensorflow==2.17.0->-r requirements.txt (line 5)) (0.2.0)\n",
      "Requirement already satisfied: h5py>=3.10.0 in /sgoinfre/students/imontero/miniforge3/lib/python3.12/site-packages (from tensorflow==2.17.0->-r requirements.txt (line 5)) (3.12.1)\n",
      "Requirement already satisfied: libclang>=13.0.0 in /sgoinfre/students/imontero/miniforge3/lib/python3.12/site-packages (from tensorflow==2.17.0->-r requirements.txt (line 5)) (18.1.1)\n",
      "Requirement already satisfied: ml-dtypes<0.5.0,>=0.3.1 in /sgoinfre/students/imontero/miniforge3/lib/python3.12/site-packages (from tensorflow==2.17.0->-r requirements.txt (line 5)) (0.4.1)\n",
      "Requirement already satisfied: opt-einsum>=2.3.2 in /sgoinfre/students/imontero/miniforge3/lib/python3.12/site-packages (from tensorflow==2.17.0->-r requirements.txt (line 5)) (3.4.0)\n",
      "Requirement already satisfied: protobuf!=4.21.0,!=4.21.1,!=4.21.2,!=4.21.3,!=4.21.4,!=4.21.5,<5.0.0dev,>=3.20.3 in /sgoinfre/students/imontero/miniforge3/lib/python3.12/site-packages (from tensorflow==2.17.0->-r requirements.txt (line 5)) (4.25.5)\n",
      "Requirement already satisfied: requests<3,>=2.21.0 in /sgoinfre/students/imontero/miniforge3/lib/python3.12/site-packages (from tensorflow==2.17.0->-r requirements.txt (line 5)) (2.32.3)\n",
      "Requirement already satisfied: setuptools in /sgoinfre/students/imontero/miniforge3/lib/python3.12/site-packages (from tensorflow==2.17.0->-r requirements.txt (line 5)) (73.0.1)\n",
      "Requirement already satisfied: six>=1.12.0 in /sgoinfre/students/imontero/miniforge3/lib/python3.12/site-packages (from tensorflow==2.17.0->-r requirements.txt (line 5)) (1.16.0)\n",
      "Requirement already satisfied: termcolor>=1.1.0 in /sgoinfre/students/imontero/miniforge3/lib/python3.12/site-packages (from tensorflow==2.17.0->-r requirements.txt (line 5)) (2.5.0)\n",
      "Requirement already satisfied: typing-extensions>=3.6.6 in /sgoinfre/students/imontero/miniforge3/lib/python3.12/site-packages (from tensorflow==2.17.0->-r requirements.txt (line 5)) (4.12.2)\n",
      "Requirement already satisfied: wrapt>=1.11.0 in /sgoinfre/students/imontero/miniforge3/lib/python3.12/site-packages (from tensorflow==2.17.0->-r requirements.txt (line 5)) (1.16.0)\n",
      "Requirement already satisfied: grpcio<2.0,>=1.24.3 in /sgoinfre/students/imontero/miniforge3/lib/python3.12/site-packages (from tensorflow==2.17.0->-r requirements.txt (line 5)) (1.66.2)\n",
      "Requirement already satisfied: tensorboard<2.18,>=2.17 in /sgoinfre/students/imontero/miniforge3/lib/python3.12/site-packages (from tensorflow==2.17.0->-r requirements.txt (line 5)) (2.17.1)\n",
      "Requirement already satisfied: keras>=3.2.0 in /sgoinfre/students/imontero/miniforge3/lib/python3.12/site-packages (from tensorflow==2.17.0->-r requirements.txt (line 5)) (3.6.0)\n",
      "Requirement already satisfied: wheel<1.0,>=0.23.0 in /sgoinfre/students/imontero/miniforge3/lib/python3.12/site-packages (from astunparse>=1.6.0->tensorflow==2.17.0->-r requirements.txt (line 5)) (0.44.0)\n",
      "Requirement already satisfied: rich in /sgoinfre/students/imontero/miniforge3/lib/python3.12/site-packages (from keras>=3.2.0->tensorflow==2.17.0->-r requirements.txt (line 5)) (13.9.2)\n",
      "Requirement already satisfied: namex in /sgoinfre/students/imontero/miniforge3/lib/python3.12/site-packages (from keras>=3.2.0->tensorflow==2.17.0->-r requirements.txt (line 5)) (0.0.8)\n",
      "Requirement already satisfied: optree in /sgoinfre/students/imontero/miniforge3/lib/python3.12/site-packages (from keras>=3.2.0->tensorflow==2.17.0->-r requirements.txt (line 5)) (0.13.0)\n",
      "Requirement already satisfied: contourpy>=1.0.1 in /sgoinfre/students/imontero/miniforge3/lib/python3.12/site-packages (from matplotlib>=3.6->mne==1.8.0->-r requirements.txt (line 1)) (1.3.0)\n",
      "Requirement already satisfied: cycler>=0.10 in /sgoinfre/students/imontero/miniforge3/lib/python3.12/site-packages (from matplotlib>=3.6->mne==1.8.0->-r requirements.txt (line 1)) (0.12.1)\n",
      "Requirement already satisfied: fonttools>=4.22.0 in /sgoinfre/students/imontero/miniforge3/lib/python3.12/site-packages (from matplotlib>=3.6->mne==1.8.0->-r requirements.txt (line 1)) (4.54.1)\n",
      "Requirement already satisfied: kiwisolver>=1.3.1 in /sgoinfre/students/imontero/miniforge3/lib/python3.12/site-packages (from matplotlib>=3.6->mne==1.8.0->-r requirements.txt (line 1)) (1.4.7)\n",
      "Requirement already satisfied: pillow>=8 in /sgoinfre/students/imontero/miniforge3/lib/python3.12/site-packages (from matplotlib>=3.6->mne==1.8.0->-r requirements.txt (line 1)) (10.4.0)\n",
      "Requirement already satisfied: pyparsing>=2.3.1 in /sgoinfre/students/imontero/miniforge3/lib/python3.12/site-packages (from matplotlib>=3.6->mne==1.8.0->-r requirements.txt (line 1)) (3.1.4)\n",
      "Requirement already satisfied: platformdirs>=2.5.0 in /sgoinfre/students/imontero/miniforge3/lib/python3.12/site-packages (from pooch>=1.5->mne==1.8.0->-r requirements.txt (line 1)) (4.2.2)\n",
      "Requirement already satisfied: charset-normalizer<4,>=2 in /sgoinfre/students/imontero/miniforge3/lib/python3.12/site-packages (from requests<3,>=2.21.0->tensorflow==2.17.0->-r requirements.txt (line 5)) (3.3.2)\n",
      "Requirement already satisfied: idna<4,>=2.5 in /sgoinfre/students/imontero/miniforge3/lib/python3.12/site-packages (from requests<3,>=2.21.0->tensorflow==2.17.0->-r requirements.txt (line 5)) (3.10)\n",
      "Requirement already satisfied: urllib3<3,>=1.21.1 in /sgoinfre/students/imontero/miniforge3/lib/python3.12/site-packages (from requests<3,>=2.21.0->tensorflow==2.17.0->-r requirements.txt (line 5)) (2.2.3)\n",
      "Requirement already satisfied: certifi>=2017.4.17 in /sgoinfre/students/imontero/miniforge3/lib/python3.12/site-packages (from requests<3,>=2.21.0->tensorflow==2.17.0->-r requirements.txt (line 5)) (2024.8.30)\n",
      "Requirement already satisfied: markdown>=2.6.8 in /sgoinfre/students/imontero/miniforge3/lib/python3.12/site-packages (from tensorboard<2.18,>=2.17->tensorflow==2.17.0->-r requirements.txt (line 5)) (3.7)\n",
      "Requirement already satisfied: tensorboard-data-server<0.8.0,>=0.7.0 in /sgoinfre/students/imontero/miniforge3/lib/python3.12/site-packages (from tensorboard<2.18,>=2.17->tensorflow==2.17.0->-r requirements.txt (line 5)) (0.7.2)\n",
      "Requirement already satisfied: werkzeug>=1.0.1 in /sgoinfre/students/imontero/miniforge3/lib/python3.12/site-packages (from tensorboard<2.18,>=2.17->tensorflow==2.17.0->-r requirements.txt (line 5)) (3.0.4)\n",
      "Requirement already satisfied: MarkupSafe>=2.0 in /sgoinfre/students/imontero/miniforge3/lib/python3.12/site-packages (from jinja2->mne==1.8.0->-r requirements.txt (line 1)) (2.1.5)\n",
      "Requirement already satisfied: markdown-it-py>=2.2.0 in /sgoinfre/students/imontero/miniforge3/lib/python3.12/site-packages (from rich->keras>=3.2.0->tensorflow==2.17.0->-r requirements.txt (line 5)) (3.0.0)\n",
      "Requirement already satisfied: pygments<3.0.0,>=2.13.0 in /sgoinfre/students/imontero/miniforge3/lib/python3.12/site-packages (from rich->keras>=3.2.0->tensorflow==2.17.0->-r requirements.txt (line 5)) (2.18.0)\n",
      "Requirement already satisfied: mdurl~=0.1 in /sgoinfre/students/imontero/miniforge3/lib/python3.12/site-packages (from markdown-it-py>=2.2.0->rich->keras>=3.2.0->tensorflow==2.17.0->-r requirements.txt (line 5)) (0.1.2)\n"
     ]
    }
   ],
   "source": [
    "!pip install -r requirements.txt"
   ]
  },
  {
   "cell_type": "code",
   "execution_count": 1,
   "metadata": {},
   "outputs": [],
   "source": [
    "import mne\n",
    "import warnings\n",
    "import numpy as np\n",
    "\n",
    "\n",
    "from sklearn.pipeline import Pipeline\n",
    "from sklearn.model_selection import cross_val_score, GridSearchCV\n",
    "from sklearn.linear_model import LogisticRegression\n",
    "from sklearn.discriminant_analysis import LinearDiscriminantAnalysis\n",
    "from sklearn.svm import SVC\n",
    "from sklearn.preprocessing import StandardScaler\n",
    "from sklearn.decomposition import PCA\n",
    "from sklearn.base import BaseEstimator, TransformerMixin, ClassifierMixin\n",
    "from sklearn.utils.validation import check_X_y, check_array, check_is_fitted\n",
    "from sklearn.exceptions import ConvergenceWarning\n",
    "from sklearn.ensemble import RandomForestClassifier\n",
    "from sklearn.decomposition import FastICA\n",
    "from sklearn.neural_network import MLPClassifier\n",
    "\n",
    "from mne import Epochs, pick_types, events_from_annotations\n",
    "from mne.channels import make_standard_montage\n",
    "from mne.io import concatenate_raws, read_raw_edf\n",
    "from mne.datasets import eegbci\n",
    "from mne.decoding import CSP\n",
    "from mne.preprocessing import ICA\n",
    "\n",
    "from utils.Pipeline import FourierTransform, Float64CSP, EEGStandardScaler, WaveletTransform\n",
    "from utils.Preprocessing import load_and_preprocess_data\n"
   ]
  },
  {
   "cell_type": "code",
   "execution_count": 2,
   "metadata": {},
   "outputs": [],
   "source": [
    "mne.set_log_level(\"CRITICAL\")\n",
    "\n",
    "# Suppress warnings from LogisticRegression and CSP\n",
    "warnings.filterwarnings(\"ignore\", category=UserWarning, module='sklearn.linear_model._logistic')\n",
    "warnings.filterwarnings(\"ignore\", category=ConvergenceWarning)\n",
    "warnings.filterwarnings(\"ignore\", category=UserWarning, module='mne')"
   ]
  },
  {
   "cell_type": "code",
   "execution_count": 3,
   "metadata": {},
   "outputs": [],
   "source": [
    "# Define subjects and runs for training and testing\n",
    "train_subjects = [57, 22, 86]\n",
    "train_tasks = {\n",
    "    'Task 1': [3, 7, 11],\n",
    "    'Task 2': [4, 8, 12],\n",
    "    'Task 3': [5, 9, 13],\n",
    "    'Task 4': [6, 10, 14]\n",
    "}\n",
    "\n",
    "test_subjects = [34]\n",
    "test_tasks = {\n",
    "    'Task 1': [3],\n",
    "    'Task 2': [4],\n",
    "    'Task 3': [5],\n",
    "    'Task 4': [6]\n",
    "}"
   ]
  },
  {
   "cell_type": "code",
   "execution_count": 4,
   "metadata": {},
   "outputs": [
    {
     "data": {
      "text/plain": [
       "(195, 64, 481)"
      ]
     },
     "metadata": {},
     "output_type": "display_data"
    },
    {
     "data": {
      "text/plain": [
       "(195,)"
      ]
     },
     "metadata": {},
     "output_type": "display_data"
    },
    {
     "data": {
      "text/plain": [
       "(22, 64, 481)"
      ]
     },
     "metadata": {},
     "output_type": "display_data"
    },
    {
     "data": {
      "text/plain": [
       "(22,)"
      ]
     },
     "metadata": {},
     "output_type": "display_data"
    }
   ],
   "source": [
    "#task_1 (open and close left or right fist)\n",
    "train_runs = train_tasks['Task 1']\n",
    "train_epochs = load_and_preprocess_data(train_subjects, train_runs)\n",
    "\n",
    "X_train = train_epochs.get_data().astype('float64')\n",
    "y_train = train_epochs.events[:, -1]\n",
    "\n",
    "display(X_train.shape)\n",
    "display(y_train.shape)\n",
    "\n",
    "\n",
    "test_runs = test_tasks['Task 1']\n",
    "test_epochs = load_and_preprocess_data(test_subjects, test_runs)\n",
    "\n",
    "X_test = test_epochs.get_data().astype('float64')\n",
    "y_test = test_epochs.events[:, -1]\n",
    "\n",
    "display(X_test.shape)\n",
    "display(y_test.shape)"
   ]
  },
  {
   "cell_type": "code",
   "execution_count": 5,
   "metadata": {},
   "outputs": [
    {
     "data": {
      "text/plain": [
       "(195, 30784)"
      ]
     },
     "metadata": {},
     "output_type": "display_data"
    },
    {
     "data": {
      "text/plain": [
       "(195, 64, 481)"
      ]
     },
     "metadata": {},
     "output_type": "display_data"
    },
    {
     "data": {
      "text/plain": [
       "(22, 30784)"
      ]
     },
     "metadata": {},
     "output_type": "display_data"
    }
   ],
   "source": [
    "# Aplanar los datos de entrenamiento\n",
    "X_train_flattened = X_train.reshape(X_train.shape[0], -1)\n",
    "X_test_flattened = X_test.reshape(X_test.shape[0], -1)\n",
    "\n",
    "# Visualizar las nuevas formas\n",
    "display(X_train_flattened.shape)\n",
    "display(X_train.shape)\n",
    "\n",
    "display(X_test_flattened.shape)\n"
   ]
  },
  {
   "cell_type": "code",
   "execution_count": 6,
   "metadata": {},
   "outputs": [
    {
     "data": {
      "text/html": [
       "<style>#sk-container-id-1 {\n",
       "  /* Definition of color scheme common for light and dark mode */\n",
       "  --sklearn-color-text: black;\n",
       "  --sklearn-color-line: gray;\n",
       "  /* Definition of color scheme for unfitted estimators */\n",
       "  --sklearn-color-unfitted-level-0: #fff5e6;\n",
       "  --sklearn-color-unfitted-level-1: #f6e4d2;\n",
       "  --sklearn-color-unfitted-level-2: #ffe0b3;\n",
       "  --sklearn-color-unfitted-level-3: chocolate;\n",
       "  /* Definition of color scheme for fitted estimators */\n",
       "  --sklearn-color-fitted-level-0: #f0f8ff;\n",
       "  --sklearn-color-fitted-level-1: #d4ebff;\n",
       "  --sklearn-color-fitted-level-2: #b3dbfd;\n",
       "  --sklearn-color-fitted-level-3: cornflowerblue;\n",
       "\n",
       "  /* Specific color for light theme */\n",
       "  --sklearn-color-text-on-default-background: var(--sg-text-color, var(--theme-code-foreground, var(--jp-content-font-color1, black)));\n",
       "  --sklearn-color-background: var(--sg-background-color, var(--theme-background, var(--jp-layout-color0, white)));\n",
       "  --sklearn-color-border-box: var(--sg-text-color, var(--theme-code-foreground, var(--jp-content-font-color1, black)));\n",
       "  --sklearn-color-icon: #696969;\n",
       "\n",
       "  @media (prefers-color-scheme: dark) {\n",
       "    /* Redefinition of color scheme for dark theme */\n",
       "    --sklearn-color-text-on-default-background: var(--sg-text-color, var(--theme-code-foreground, var(--jp-content-font-color1, white)));\n",
       "    --sklearn-color-background: var(--sg-background-color, var(--theme-background, var(--jp-layout-color0, #111)));\n",
       "    --sklearn-color-border-box: var(--sg-text-color, var(--theme-code-foreground, var(--jp-content-font-color1, white)));\n",
       "    --sklearn-color-icon: #878787;\n",
       "  }\n",
       "}\n",
       "\n",
       "#sk-container-id-1 {\n",
       "  color: var(--sklearn-color-text);\n",
       "}\n",
       "\n",
       "#sk-container-id-1 pre {\n",
       "  padding: 0;\n",
       "}\n",
       "\n",
       "#sk-container-id-1 input.sk-hidden--visually {\n",
       "  border: 0;\n",
       "  clip: rect(1px 1px 1px 1px);\n",
       "  clip: rect(1px, 1px, 1px, 1px);\n",
       "  height: 1px;\n",
       "  margin: -1px;\n",
       "  overflow: hidden;\n",
       "  padding: 0;\n",
       "  position: absolute;\n",
       "  width: 1px;\n",
       "}\n",
       "\n",
       "#sk-container-id-1 div.sk-dashed-wrapped {\n",
       "  border: 1px dashed var(--sklearn-color-line);\n",
       "  margin: 0 0.4em 0.5em 0.4em;\n",
       "  box-sizing: border-box;\n",
       "  padding-bottom: 0.4em;\n",
       "  background-color: var(--sklearn-color-background);\n",
       "}\n",
       "\n",
       "#sk-container-id-1 div.sk-container {\n",
       "  /* jupyter's `normalize.less` sets `[hidden] { display: none; }`\n",
       "     but bootstrap.min.css set `[hidden] { display: none !important; }`\n",
       "     so we also need the `!important` here to be able to override the\n",
       "     default hidden behavior on the sphinx rendered scikit-learn.org.\n",
       "     See: https://github.com/scikit-learn/scikit-learn/issues/21755 */\n",
       "  display: inline-block !important;\n",
       "  position: relative;\n",
       "}\n",
       "\n",
       "#sk-container-id-1 div.sk-text-repr-fallback {\n",
       "  display: none;\n",
       "}\n",
       "\n",
       "div.sk-parallel-item,\n",
       "div.sk-serial,\n",
       "div.sk-item {\n",
       "  /* draw centered vertical line to link estimators */\n",
       "  background-image: linear-gradient(var(--sklearn-color-text-on-default-background), var(--sklearn-color-text-on-default-background));\n",
       "  background-size: 2px 100%;\n",
       "  background-repeat: no-repeat;\n",
       "  background-position: center center;\n",
       "}\n",
       "\n",
       "/* Parallel-specific style estimator block */\n",
       "\n",
       "#sk-container-id-1 div.sk-parallel-item::after {\n",
       "  content: \"\";\n",
       "  width: 100%;\n",
       "  border-bottom: 2px solid var(--sklearn-color-text-on-default-background);\n",
       "  flex-grow: 1;\n",
       "}\n",
       "\n",
       "#sk-container-id-1 div.sk-parallel {\n",
       "  display: flex;\n",
       "  align-items: stretch;\n",
       "  justify-content: center;\n",
       "  background-color: var(--sklearn-color-background);\n",
       "  position: relative;\n",
       "}\n",
       "\n",
       "#sk-container-id-1 div.sk-parallel-item {\n",
       "  display: flex;\n",
       "  flex-direction: column;\n",
       "}\n",
       "\n",
       "#sk-container-id-1 div.sk-parallel-item:first-child::after {\n",
       "  align-self: flex-end;\n",
       "  width: 50%;\n",
       "}\n",
       "\n",
       "#sk-container-id-1 div.sk-parallel-item:last-child::after {\n",
       "  align-self: flex-start;\n",
       "  width: 50%;\n",
       "}\n",
       "\n",
       "#sk-container-id-1 div.sk-parallel-item:only-child::after {\n",
       "  width: 0;\n",
       "}\n",
       "\n",
       "/* Serial-specific style estimator block */\n",
       "\n",
       "#sk-container-id-1 div.sk-serial {\n",
       "  display: flex;\n",
       "  flex-direction: column;\n",
       "  align-items: center;\n",
       "  background-color: var(--sklearn-color-background);\n",
       "  padding-right: 1em;\n",
       "  padding-left: 1em;\n",
       "}\n",
       "\n",
       "\n",
       "/* Toggleable style: style used for estimator/Pipeline/ColumnTransformer box that is\n",
       "clickable and can be expanded/collapsed.\n",
       "- Pipeline and ColumnTransformer use this feature and define the default style\n",
       "- Estimators will overwrite some part of the style using the `sk-estimator` class\n",
       "*/\n",
       "\n",
       "/* Pipeline and ColumnTransformer style (default) */\n",
       "\n",
       "#sk-container-id-1 div.sk-toggleable {\n",
       "  /* Default theme specific background. It is overwritten whether we have a\n",
       "  specific estimator or a Pipeline/ColumnTransformer */\n",
       "  background-color: var(--sklearn-color-background);\n",
       "}\n",
       "\n",
       "/* Toggleable label */\n",
       "#sk-container-id-1 label.sk-toggleable__label {\n",
       "  cursor: pointer;\n",
       "  display: block;\n",
       "  width: 100%;\n",
       "  margin-bottom: 0;\n",
       "  padding: 0.5em;\n",
       "  box-sizing: border-box;\n",
       "  text-align: center;\n",
       "}\n",
       "\n",
       "#sk-container-id-1 label.sk-toggleable__label-arrow:before {\n",
       "  /* Arrow on the left of the label */\n",
       "  content: \"▸\";\n",
       "  float: left;\n",
       "  margin-right: 0.25em;\n",
       "  color: var(--sklearn-color-icon);\n",
       "}\n",
       "\n",
       "#sk-container-id-1 label.sk-toggleable__label-arrow:hover:before {\n",
       "  color: var(--sklearn-color-text);\n",
       "}\n",
       "\n",
       "/* Toggleable content - dropdown */\n",
       "\n",
       "#sk-container-id-1 div.sk-toggleable__content {\n",
       "  max-height: 0;\n",
       "  max-width: 0;\n",
       "  overflow: hidden;\n",
       "  text-align: left;\n",
       "  /* unfitted */\n",
       "  background-color: var(--sklearn-color-unfitted-level-0);\n",
       "}\n",
       "\n",
       "#sk-container-id-1 div.sk-toggleable__content.fitted {\n",
       "  /* fitted */\n",
       "  background-color: var(--sklearn-color-fitted-level-0);\n",
       "}\n",
       "\n",
       "#sk-container-id-1 div.sk-toggleable__content pre {\n",
       "  margin: 0.2em;\n",
       "  border-radius: 0.25em;\n",
       "  color: var(--sklearn-color-text);\n",
       "  /* unfitted */\n",
       "  background-color: var(--sklearn-color-unfitted-level-0);\n",
       "}\n",
       "\n",
       "#sk-container-id-1 div.sk-toggleable__content.fitted pre {\n",
       "  /* unfitted */\n",
       "  background-color: var(--sklearn-color-fitted-level-0);\n",
       "}\n",
       "\n",
       "#sk-container-id-1 input.sk-toggleable__control:checked~div.sk-toggleable__content {\n",
       "  /* Expand drop-down */\n",
       "  max-height: 200px;\n",
       "  max-width: 100%;\n",
       "  overflow: auto;\n",
       "}\n",
       "\n",
       "#sk-container-id-1 input.sk-toggleable__control:checked~label.sk-toggleable__label-arrow:before {\n",
       "  content: \"▾\";\n",
       "}\n",
       "\n",
       "/* Pipeline/ColumnTransformer-specific style */\n",
       "\n",
       "#sk-container-id-1 div.sk-label input.sk-toggleable__control:checked~label.sk-toggleable__label {\n",
       "  color: var(--sklearn-color-text);\n",
       "  background-color: var(--sklearn-color-unfitted-level-2);\n",
       "}\n",
       "\n",
       "#sk-container-id-1 div.sk-label.fitted input.sk-toggleable__control:checked~label.sk-toggleable__label {\n",
       "  background-color: var(--sklearn-color-fitted-level-2);\n",
       "}\n",
       "\n",
       "/* Estimator-specific style */\n",
       "\n",
       "/* Colorize estimator box */\n",
       "#sk-container-id-1 div.sk-estimator input.sk-toggleable__control:checked~label.sk-toggleable__label {\n",
       "  /* unfitted */\n",
       "  background-color: var(--sklearn-color-unfitted-level-2);\n",
       "}\n",
       "\n",
       "#sk-container-id-1 div.sk-estimator.fitted input.sk-toggleable__control:checked~label.sk-toggleable__label {\n",
       "  /* fitted */\n",
       "  background-color: var(--sklearn-color-fitted-level-2);\n",
       "}\n",
       "\n",
       "#sk-container-id-1 div.sk-label label.sk-toggleable__label,\n",
       "#sk-container-id-1 div.sk-label label {\n",
       "  /* The background is the default theme color */\n",
       "  color: var(--sklearn-color-text-on-default-background);\n",
       "}\n",
       "\n",
       "/* On hover, darken the color of the background */\n",
       "#sk-container-id-1 div.sk-label:hover label.sk-toggleable__label {\n",
       "  color: var(--sklearn-color-text);\n",
       "  background-color: var(--sklearn-color-unfitted-level-2);\n",
       "}\n",
       "\n",
       "/* Label box, darken color on hover, fitted */\n",
       "#sk-container-id-1 div.sk-label.fitted:hover label.sk-toggleable__label.fitted {\n",
       "  color: var(--sklearn-color-text);\n",
       "  background-color: var(--sklearn-color-fitted-level-2);\n",
       "}\n",
       "\n",
       "/* Estimator label */\n",
       "\n",
       "#sk-container-id-1 div.sk-label label {\n",
       "  font-family: monospace;\n",
       "  font-weight: bold;\n",
       "  display: inline-block;\n",
       "  line-height: 1.2em;\n",
       "}\n",
       "\n",
       "#sk-container-id-1 div.sk-label-container {\n",
       "  text-align: center;\n",
       "}\n",
       "\n",
       "/* Estimator-specific */\n",
       "#sk-container-id-1 div.sk-estimator {\n",
       "  font-family: monospace;\n",
       "  border: 1px dotted var(--sklearn-color-border-box);\n",
       "  border-radius: 0.25em;\n",
       "  box-sizing: border-box;\n",
       "  margin-bottom: 0.5em;\n",
       "  /* unfitted */\n",
       "  background-color: var(--sklearn-color-unfitted-level-0);\n",
       "}\n",
       "\n",
       "#sk-container-id-1 div.sk-estimator.fitted {\n",
       "  /* fitted */\n",
       "  background-color: var(--sklearn-color-fitted-level-0);\n",
       "}\n",
       "\n",
       "/* on hover */\n",
       "#sk-container-id-1 div.sk-estimator:hover {\n",
       "  /* unfitted */\n",
       "  background-color: var(--sklearn-color-unfitted-level-2);\n",
       "}\n",
       "\n",
       "#sk-container-id-1 div.sk-estimator.fitted:hover {\n",
       "  /* fitted */\n",
       "  background-color: var(--sklearn-color-fitted-level-2);\n",
       "}\n",
       "\n",
       "/* Specification for estimator info (e.g. \"i\" and \"?\") */\n",
       "\n",
       "/* Common style for \"i\" and \"?\" */\n",
       "\n",
       ".sk-estimator-doc-link,\n",
       "a:link.sk-estimator-doc-link,\n",
       "a:visited.sk-estimator-doc-link {\n",
       "  float: right;\n",
       "  font-size: smaller;\n",
       "  line-height: 1em;\n",
       "  font-family: monospace;\n",
       "  background-color: var(--sklearn-color-background);\n",
       "  border-radius: 1em;\n",
       "  height: 1em;\n",
       "  width: 1em;\n",
       "  text-decoration: none !important;\n",
       "  margin-left: 1ex;\n",
       "  /* unfitted */\n",
       "  border: var(--sklearn-color-unfitted-level-1) 1pt solid;\n",
       "  color: var(--sklearn-color-unfitted-level-1);\n",
       "}\n",
       "\n",
       ".sk-estimator-doc-link.fitted,\n",
       "a:link.sk-estimator-doc-link.fitted,\n",
       "a:visited.sk-estimator-doc-link.fitted {\n",
       "  /* fitted */\n",
       "  border: var(--sklearn-color-fitted-level-1) 1pt solid;\n",
       "  color: var(--sklearn-color-fitted-level-1);\n",
       "}\n",
       "\n",
       "/* On hover */\n",
       "div.sk-estimator:hover .sk-estimator-doc-link:hover,\n",
       ".sk-estimator-doc-link:hover,\n",
       "div.sk-label-container:hover .sk-estimator-doc-link:hover,\n",
       ".sk-estimator-doc-link:hover {\n",
       "  /* unfitted */\n",
       "  background-color: var(--sklearn-color-unfitted-level-3);\n",
       "  color: var(--sklearn-color-background);\n",
       "  text-decoration: none;\n",
       "}\n",
       "\n",
       "div.sk-estimator.fitted:hover .sk-estimator-doc-link.fitted:hover,\n",
       ".sk-estimator-doc-link.fitted:hover,\n",
       "div.sk-label-container:hover .sk-estimator-doc-link.fitted:hover,\n",
       ".sk-estimator-doc-link.fitted:hover {\n",
       "  /* fitted */\n",
       "  background-color: var(--sklearn-color-fitted-level-3);\n",
       "  color: var(--sklearn-color-background);\n",
       "  text-decoration: none;\n",
       "}\n",
       "\n",
       "/* Span, style for the box shown on hovering the info icon */\n",
       ".sk-estimator-doc-link span {\n",
       "  display: none;\n",
       "  z-index: 9999;\n",
       "  position: relative;\n",
       "  font-weight: normal;\n",
       "  right: .2ex;\n",
       "  padding: .5ex;\n",
       "  margin: .5ex;\n",
       "  width: min-content;\n",
       "  min-width: 20ex;\n",
       "  max-width: 50ex;\n",
       "  color: var(--sklearn-color-text);\n",
       "  box-shadow: 2pt 2pt 4pt #999;\n",
       "  /* unfitted */\n",
       "  background: var(--sklearn-color-unfitted-level-0);\n",
       "  border: .5pt solid var(--sklearn-color-unfitted-level-3);\n",
       "}\n",
       "\n",
       ".sk-estimator-doc-link.fitted span {\n",
       "  /* fitted */\n",
       "  background: var(--sklearn-color-fitted-level-0);\n",
       "  border: var(--sklearn-color-fitted-level-3);\n",
       "}\n",
       "\n",
       ".sk-estimator-doc-link:hover span {\n",
       "  display: block;\n",
       "}\n",
       "\n",
       "/* \"?\"-specific style due to the `<a>` HTML tag */\n",
       "\n",
       "#sk-container-id-1 a.estimator_doc_link {\n",
       "  float: right;\n",
       "  font-size: 1rem;\n",
       "  line-height: 1em;\n",
       "  font-family: monospace;\n",
       "  background-color: var(--sklearn-color-background);\n",
       "  border-radius: 1rem;\n",
       "  height: 1rem;\n",
       "  width: 1rem;\n",
       "  text-decoration: none;\n",
       "  /* unfitted */\n",
       "  color: var(--sklearn-color-unfitted-level-1);\n",
       "  border: var(--sklearn-color-unfitted-level-1) 1pt solid;\n",
       "}\n",
       "\n",
       "#sk-container-id-1 a.estimator_doc_link.fitted {\n",
       "  /* fitted */\n",
       "  border: var(--sklearn-color-fitted-level-1) 1pt solid;\n",
       "  color: var(--sklearn-color-fitted-level-1);\n",
       "}\n",
       "\n",
       "/* On hover */\n",
       "#sk-container-id-1 a.estimator_doc_link:hover {\n",
       "  /* unfitted */\n",
       "  background-color: var(--sklearn-color-unfitted-level-3);\n",
       "  color: var(--sklearn-color-background);\n",
       "  text-decoration: none;\n",
       "}\n",
       "\n",
       "#sk-container-id-1 a.estimator_doc_link.fitted:hover {\n",
       "  /* fitted */\n",
       "  background-color: var(--sklearn-color-fitted-level-3);\n",
       "}\n",
       "</style><div id=\"sk-container-id-1\" class=\"sk-top-container\"><div class=\"sk-text-repr-fallback\"><pre>Pipeline(steps=[(&#x27;standarize&#x27;, StandardScaler()), (&#x27;pca&#x27;, PCA(n_components=25)),\n",
       "                (&#x27;dslr&#x27;, LogisticRegression(max_iter=10000))])</pre><b>In a Jupyter environment, please rerun this cell to show the HTML representation or trust the notebook. <br />On GitHub, the HTML representation is unable to render, please try loading this page with nbviewer.org.</b></div><div class=\"sk-container\" hidden><div class=\"sk-item sk-dashed-wrapped\"><div class=\"sk-label-container\"><div class=\"sk-label  sk-toggleable\"><input class=\"sk-toggleable__control sk-hidden--visually\" id=\"sk-estimator-id-1\" type=\"checkbox\" ><label for=\"sk-estimator-id-1\" class=\"sk-toggleable__label  sk-toggleable__label-arrow \">&nbsp;&nbsp;Pipeline<a class=\"sk-estimator-doc-link \" rel=\"noreferrer\" target=\"_blank\" href=\"https://scikit-learn.org/1.5/modules/generated/sklearn.pipeline.Pipeline.html\">?<span>Documentation for Pipeline</span></a><span class=\"sk-estimator-doc-link \">i<span>Not fitted</span></span></label><div class=\"sk-toggleable__content \"><pre>Pipeline(steps=[(&#x27;standarize&#x27;, StandardScaler()), (&#x27;pca&#x27;, PCA(n_components=25)),\n",
       "                (&#x27;dslr&#x27;, LogisticRegression(max_iter=10000))])</pre></div> </div></div><div class=\"sk-serial\"><div class=\"sk-item\"><div class=\"sk-estimator  sk-toggleable\"><input class=\"sk-toggleable__control sk-hidden--visually\" id=\"sk-estimator-id-2\" type=\"checkbox\" ><label for=\"sk-estimator-id-2\" class=\"sk-toggleable__label  sk-toggleable__label-arrow \">&nbsp;StandardScaler<a class=\"sk-estimator-doc-link \" rel=\"noreferrer\" target=\"_blank\" href=\"https://scikit-learn.org/1.5/modules/generated/sklearn.preprocessing.StandardScaler.html\">?<span>Documentation for StandardScaler</span></a></label><div class=\"sk-toggleable__content \"><pre>StandardScaler()</pre></div> </div></div><div class=\"sk-item\"><div class=\"sk-estimator  sk-toggleable\"><input class=\"sk-toggleable__control sk-hidden--visually\" id=\"sk-estimator-id-3\" type=\"checkbox\" ><label for=\"sk-estimator-id-3\" class=\"sk-toggleable__label  sk-toggleable__label-arrow \">&nbsp;PCA<a class=\"sk-estimator-doc-link \" rel=\"noreferrer\" target=\"_blank\" href=\"https://scikit-learn.org/1.5/modules/generated/sklearn.decomposition.PCA.html\">?<span>Documentation for PCA</span></a></label><div class=\"sk-toggleable__content \"><pre>PCA(n_components=25)</pre></div> </div></div><div class=\"sk-item\"><div class=\"sk-estimator  sk-toggleable\"><input class=\"sk-toggleable__control sk-hidden--visually\" id=\"sk-estimator-id-4\" type=\"checkbox\" ><label for=\"sk-estimator-id-4\" class=\"sk-toggleable__label  sk-toggleable__label-arrow \">&nbsp;LogisticRegression<a class=\"sk-estimator-doc-link \" rel=\"noreferrer\" target=\"_blank\" href=\"https://scikit-learn.org/1.5/modules/generated/sklearn.linear_model.LogisticRegression.html\">?<span>Documentation for LogisticRegression</span></a></label><div class=\"sk-toggleable__content \"><pre>LogisticRegression(max_iter=10000)</pre></div> </div></div></div></div></div></div>"
      ],
      "text/plain": [
       "Pipeline(steps=[('standarize', StandardScaler()), ('pca', PCA(n_components=25)),\n",
       "                ('dslr', LogisticRegression(max_iter=10000))])"
      ]
     },
     "metadata": {},
     "output_type": "display_data"
    }
   ],
   "source": [
    "std_pca_dslr = Pipeline([\n",
    "    ('standarize', StandardScaler()),\n",
    "    ('pca', PCA(n_components=25)),\n",
    "    ('dslr', LogisticRegression(max_iter=10000))\n",
    "])\n",
    "\n",
    "display(std_pca_dslr)"
   ]
  },
  {
   "cell_type": "code",
   "execution_count": 7,
   "metadata": {},
   "outputs": [],
   "source": [
    "param_grid = [\n",
    "    # lbfgs y penalty l2\n",
    "    {'pca__n_components': [5, 10, 15, 20],\n",
    "     'dslr__solver': ['lbfgs'],\n",
    "     'dslr__penalty': ['l2'],\n",
    "     'dslr__C': [0.01, 0.1, 1, 10, 100]},\n",
    "    \n",
    "    # liblinear permite l1 y l2 penalties\n",
    "    {'pca__n_components': [5, 10, 15, 20],\n",
    "     'dslr__solver': ['liblinear'],\n",
    "     'dslr__penalty': ['l1', 'l2'],\n",
    "     'dslr__C': [0.01, 0.1, 1, 10, 100]}\n",
    "]"
   ]
  },
  {
   "cell_type": "code",
   "execution_count": 8,
   "metadata": {},
   "outputs": [
    {
     "name": "stdout",
     "output_type": "stream",
     "text": [
      "Precisión en entrenamiento: 0.75\n",
      "Precisión en prueba: 0.64\n",
      "Precisión en cada pliegue: [0.64102564 0.69230769 0.56410256 0.69230769 0.64102564]\n",
      "Precisión media: 0.65\n"
     ]
    }
   ],
   "source": [
    "# SIN GRIND SEARCH\n",
    "# Entrenar el modelo\n",
    "std_pca_dslr.fit(X_train_flattened, y_train)\n",
    "\n",
    "# Evaluar el modelo en el conjunto de prueba\n",
    "train_accuracy = std_pca_dslr.score(X_train_flattened, y_train)\n",
    "test_accuracy = std_pca_dslr.score(X_test_flattened, y_test)\n",
    "\n",
    "# Imprimir las precisiones\n",
    "print(f\"Precisión en entrenamiento: {train_accuracy:.2f}\")\n",
    "print(f\"Precisión en prueba: {test_accuracy:.2f}\")\n",
    "\n",
    "\n",
    "cv_scores = cross_val_score(std_pca_dslr, X_train_flattened, y_train, cv=5)\n",
    "\n",
    "print(f\"Precisión en cada pliegue: {cv_scores}\")\n",
    "print(f\"Precisión media: {np.mean(cv_scores):.2f}\")"
   ]
  },
  {
   "cell_type": "code",
   "execution_count": 9,
   "metadata": {},
   "outputs": [
    {
     "data": {
      "text/plain": [
       "' # Crear el objeto GridSearchCV\\ngrid_search = GridSearchCV(std_pca_dslr, param_grid, cv=5, n_jobs=-1)  # n_jobs=-1 usa todos los cores disponibles\\n\\n# Entrenar con el conjunto de datos de entrenamiento (GridSearch)\\ngrid_search.fit(X_train_flattened, y_train)\\n\\n# Mostrar los mejores parámetros encontrados\\nprint(\"Mejores parámetros encontrados:\", grid_search.best_params_)\\n\\n# Evaluar el rendimiento del mejor modelo en los datos de prueba\\ntest_accuracy = grid_search.score(X_test_flattened, y_test)\\nprint(f\"Precisión en prueba con mejores parámetros: {test_accuracy:.2f}\")\\n\\n# También puedes obtener la precisión media de los pliegues de validación cruzada\\ncv_results = grid_search.cv_results_\\nmean_test_score = np.mean(cv_results[\\'mean_test_score\\'])\\nprint(f\"Precisión media de validación cruzada: {mean_test_score:.2f}\") '"
      ]
     },
     "execution_count": 9,
     "metadata": {},
     "output_type": "execute_result"
    }
   ],
   "source": [
    "# GRID SEARCH CV\n",
    "\n",
    "\"\"\" # Crear el objeto GridSearchCV\n",
    "grid_search = GridSearchCV(std_pca_dslr, param_grid, cv=5, n_jobs=-1)  # n_jobs=-1 usa todos los cores disponibles\n",
    "\n",
    "# Entrenar con el conjunto de datos de entrenamiento (GridSearch)\n",
    "grid_search.fit(X_train_flattened, y_train)\n",
    "\n",
    "# Mostrar los mejores parámetros encontrados\n",
    "print(\"Mejores parámetros encontrados:\", grid_search.best_params_)\n",
    "\n",
    "# Evaluar el rendimiento del mejor modelo en los datos de prueba\n",
    "test_accuracy = grid_search.score(X_test_flattened, y_test)\n",
    "print(f\"Precisión en prueba con mejores parámetros: {test_accuracy:.2f}\")\n",
    "\n",
    "# También puedes obtener la precisión media de los pliegues de validación cruzada\n",
    "cv_results = grid_search.cv_results_\n",
    "mean_test_score = np.mean(cv_results['mean_test_score'])\n",
    "print(f\"Precisión media de validación cruzada: {mean_test_score:.2f}\") \"\"\""
   ]
  },
  {
   "cell_type": "markdown",
   "metadata": {},
   "source": [
    "-----"
   ]
  },
  {
   "cell_type": "code",
   "execution_count": 11,
   "metadata": {},
   "outputs": [],
   "source": [
    "fft_csp_svm = Pipeline([\n",
    "    ('fft', FourierTransform()), \n",
    "    ('csp', CSP(n_components=4, reg=None, log=True)),  # Common Spatial Patterns\n",
    "    ('svm', SVC(kernel='linear', C=1.0))  # Clasificador SVM con kernel lineal\n",
    "])\n",
    "\n",
    "# Definir los hiperparámetros a optimizar\n",
    "param_grid = {\n",
    "    'csp__n_components': [2, 4, 6, 8],  # Probar con diferentes números de componentes de CSP\n",
    "    'svm__C': [0.1, 1, 10, 100],        # Parámetro de regularización de SVM\n",
    "}"
   ]
  },
  {
   "cell_type": "code",
   "execution_count": 12,
   "metadata": {},
   "outputs": [
    {
     "name": "stdout",
     "output_type": "stream",
     "text": [
      "Precisión en entrenamiento: 0.76\n",
      "Precisión en prueba: 0.64\n",
      "Precisión en cada pliegue: [0.51282051 0.64102564 0.46153846 0.64102564 0.51282051]\n",
      "Precisión media: 0.55\n"
     ]
    }
   ],
   "source": [
    "# Entrenar el modelo\n",
    "fft_csp_svm.fit(X_train, y_train)\n",
    "\n",
    "# Evaluar el modelo en el conjunto de prueba\n",
    "train_accuracy = fft_csp_svm.score(X_train, y_train)\n",
    "test_accuracy = fft_csp_svm.score(X_test, y_test)\n",
    "\n",
    "# Imprimir las precisiones\n",
    "print(f\"Precisión en entrenamiento: {train_accuracy:.2f}\")\n",
    "print(f\"Precisión en prueba: {test_accuracy:.2f}\")\n",
    "\n",
    "\n",
    "cv_scores = cross_val_score(fft_csp_svm, X_train, y_train, cv=5)\n",
    "\n",
    "print(f\"Precisión en cada pliegue: {cv_scores}\")\n",
    "print(f\"Precisión media: {np.mean(cv_scores):.2f}\")"
   ]
  },
  {
   "cell_type": "code",
   "execution_count": 13,
   "metadata": {},
   "outputs": [
    {
     "data": {
      "text/plain": [
       "' # GRID SEARCH CV\\n\\n# Crear el objeto GridSearchCV\\ngrid_search = GridSearchCV(fft_csp_svm, param_grid, cv=5, n_jobs=-1)  # n_jobs=-1 usa todos los cores disponibles\\n\\n# Entrenar con el conjunto de datos de entrenamiento (GridSearch)\\ngrid_search.fit(X_train, y_train)\\n\\n# Mostrar los mejores parámetros encontrados\\nprint(\"Mejores parámetros encontrados:\", grid_search.best_params_)\\n\\n# Evaluar el rendimiento del mejor modelo en los datos de prueba\\ntest_accuracy = grid_search.score(X_test, y_test)\\nprint(f\"Precisión en prueba con mejores parámetros: {test_accuracy:.2f}\")\\n\\n# También puedes obtener la precisión media de los pliegues de validación cruzada\\ncv_results = grid_search.cv_results_\\nmean_test_score = np.mean(cv_results[\\'mean_test_score\\'])\\nprint(f\"Precisión media de validación cruzada: {mean_test_score:.2f}\") '"
      ]
     },
     "execution_count": 13,
     "metadata": {},
     "output_type": "execute_result"
    }
   ],
   "source": [
    "\"\"\" # GRID SEARCH CV\n",
    "\n",
    "# Crear el objeto GridSearchCV\n",
    "grid_search = GridSearchCV(fft_csp_svm, param_grid, cv=5, n_jobs=-1)  # n_jobs=-1 usa todos los cores disponibles\n",
    "\n",
    "# Entrenar con el conjunto de datos de entrenamiento (GridSearch)\n",
    "grid_search.fit(X_train, y_train)\n",
    "\n",
    "# Mostrar los mejores parámetros encontrados\n",
    "print(\"Mejores parámetros encontrados:\", grid_search.best_params_)\n",
    "\n",
    "# Evaluar el rendimiento del mejor modelo en los datos de prueba\n",
    "test_accuracy = grid_search.score(X_test, y_test)\n",
    "print(f\"Precisión en prueba con mejores parámetros: {test_accuracy:.2f}\")\n",
    "\n",
    "# También puedes obtener la precisión media de los pliegues de validación cruzada\n",
    "cv_results = grid_search.cv_results_\n",
    "mean_test_score = np.mean(cv_results['mean_test_score'])\n",
    "print(f\"Precisión media de validación cruzada: {mean_test_score:.2f}\") \"\"\""
   ]
  },
  {
   "cell_type": "markdown",
   "metadata": {},
   "source": [
    "------"
   ]
  },
  {
   "cell_type": "code",
   "execution_count": 14,
   "metadata": {},
   "outputs": [],
   "source": [
    "fourier_csp_lda = Pipeline([\n",
    "        ('fourier', FourierTransform()),                 # Apply Fourier Transform to the data\n",
    "        ('scaler', EEGStandardScaler()),                 # Standardise the data\n",
    "        ('CSP', Float64CSP(n_components=4, reg=None, log=True)),  # Apply Common Spatial Patterns (CSP)\n",
    "        ('LDA', LinearDiscriminantAnalysis())            # Use Linear Discriminant Analysis for classification\n",
    "    ])"
   ]
  },
  {
   "cell_type": "code",
   "execution_count": 15,
   "metadata": {},
   "outputs": [
    {
     "name": "stdout",
     "output_type": "stream",
     "text": [
      "Precisión en entrenamiento: 0.66\n",
      "Precisión en prueba: 0.64\n",
      "Precisión en cada pliegue: [0.64102564 0.61538462 0.61538462 0.66666667 0.66666667]\n",
      "Precisión media: 0.64\n"
     ]
    }
   ],
   "source": [
    "# SIN GRIND SEARCH\n",
    "# Entrenar el modelo\n",
    "fourier_csp_lda.fit(X_train, y_train)\n",
    "\n",
    "# Evaluar el modelo en el conjunto de prueba\n",
    "train_accuracy = fourier_csp_lda.score(X_train, y_train)\n",
    "test_accuracy = fourier_csp_lda.score(X_test, y_test)\n",
    "\n",
    "# Imprimir las precisiones\n",
    "print(f\"Precisión en entrenamiento: {train_accuracy:.2f}\")\n",
    "print(f\"Precisión en prueba: {test_accuracy:.2f}\")\n",
    "\n",
    "\n",
    "cv_scores = cross_val_score(fourier_csp_lda, X_train, y_train, cv=5)\n",
    "\n",
    "print(f\"Precisión en cada pliegue: {cv_scores}\")\n",
    "print(f\"Precisión media: {np.mean(cv_scores):.2f}\")"
   ]
  },
  {
   "cell_type": "code",
   "execution_count": 16,
   "metadata": {},
   "outputs": [],
   "source": [
    "fourier_csp_svm = Pipeline([\n",
    "        ('fourier', FourierTransform()),                 # Apply Fourier Transform to the data\n",
    "        ('scaler', EEGStandardScaler()),                 # Standardise the data\n",
    "        ('CSP', Float64CSP(n_components=4, reg=None, log=True)),  # Apply Common Spatial Patterns (CSP)\n",
    "        ('SVM', SVC(kernel='linear'))                    # Use Support Vector Machine with a linear kernel\n",
    "    ])"
   ]
  },
  {
   "cell_type": "code",
   "execution_count": 17,
   "metadata": {},
   "outputs": [
    {
     "name": "stdout",
     "output_type": "stream",
     "text": [
      "Precisión en entrenamiento: 0.65\n",
      "Precisión en prueba: 0.64\n",
      "Precisión en cada pliegue: [0.64102564 0.64102564 0.64102564 0.64102564 0.66666667]\n",
      "Precisión media: 0.65\n"
     ]
    }
   ],
   "source": [
    "# SIN GRIND SEARCH\n",
    "# Entrenar el modelo\n",
    "fourier_csp_svm.fit(X_train, y_train)\n",
    "\n",
    "# Evaluar el modelo en el conjunto de prueba\n",
    "train_accuracy = fourier_csp_svm.score(X_train, y_train)\n",
    "test_accuracy = fourier_csp_svm.score(X_test, y_test)\n",
    "\n",
    "# Imprimir las precisiones\n",
    "print(f\"Precisión en entrenamiento: {train_accuracy:.2f}\")\n",
    "print(f\"Precisión en prueba: {test_accuracy:.2f}\")\n",
    "\n",
    "\n",
    "cv_scores = cross_val_score(fourier_csp_svm, X_train, y_train, cv=5)\n",
    "\n",
    "print(f\"Precisión en cada pliegue: {cv_scores}\")\n",
    "print(f\"Precisión media: {np.mean(cv_scores):.2f}\")"
   ]
  },
  {
   "cell_type": "markdown",
   "metadata": {},
   "source": [
    "---"
   ]
  },
  {
   "cell_type": "code",
   "execution_count": 18,
   "metadata": {},
   "outputs": [
    {
     "name": "stdout",
     "output_type": "stream",
     "text": [
      "Precisión en entrenamiento: 1.00\n",
      "Precisión en prueba: 0.64\n",
      "Precisión en cada pliegue: [0.66666667 0.76923077 0.71794872 0.66666667 0.69230769]\n",
      "Precisión media: 0.70\n"
     ]
    }
   ],
   "source": [
    "wavelet_csp_rf = Pipeline([\n",
    "    ('wavelet', WaveletTransform(wavelet='db4', level=4)),  # Transformada Wavelet Discreta\n",
    "    ('rf', RandomForestClassifier(n_estimators=100))        # Random Forest Classifier\n",
    "])\n",
    "\n",
    "# Definir los hiperparámetros a optimizar\n",
    "param_grid = {\n",
    "    'csp__n_components': [2, 4, 6, 8],  # Probar con diferentes números de componentes de CSP\n",
    "    'rf__n_estimators': [50, 100, 200],  # Número de árboles en Random Forest\n",
    "    'rf__max_depth': [None, 10, 20, 30]  # Profundidad máxima de los árboles\n",
    "}\n",
    "wavelet_csp_rf.fit(X_train, y_train)\n",
    "# Evaluar el modelo en el conjunto de prueba\n",
    "train_accuracy = wavelet_csp_rf.score(X_train, y_train)\n",
    "test_accuracy = wavelet_csp_rf.score(X_test, y_test)\n",
    "\n",
    "# Imprimir las precisiones\n",
    "print(f\"Precisión en entrenamiento: {train_accuracy:.2f}\")\n",
    "print(f\"Precisión en prueba: {test_accuracy:.2f}\")\n",
    "\n",
    "\n",
    "cv_scores = cross_val_score(wavelet_csp_rf, X_train, y_train, cv=5)\n",
    "\n",
    "print(f\"Precisión en cada pliegue: {cv_scores}\")\n",
    "print(f\"Precisión media: {np.mean(cv_scores):.2f}\")"
   ]
  },
  {
   "cell_type": "code",
   "execution_count": 19,
   "metadata": {},
   "outputs": [
    {
     "name": "stdout",
     "output_type": "stream",
     "text": [
      "Precisión en entrenamiento: 1.00\n",
      "Precisión en prueba: 0.68\n",
      "Precisión en cada pliegue: [0.64102564 0.53846154 0.51282051 0.53846154 0.61538462]\n",
      "Precisión media: 0.57\n"
     ]
    }
   ],
   "source": [
    "csp_rf = Pipeline([\n",
    "    ('csp', Float64CSP(n_components=4, reg=None, log=True)),  # Transformada Wavelet Discreta\n",
    "    ('rf', RandomForestClassifier(n_estimators=100))        # Random Forest Classifier\n",
    "])\n",
    "\n",
    "\n",
    "csp_rf.fit(X_train, y_train)\n",
    "# Evaluar el modelo en el conjunto de prueba\n",
    "train_accuracy = csp_rf.score(X_train, y_train)\n",
    "test_accuracy = csp_rf.score(X_test, y_test)\n",
    "\n",
    "# Imprimir las precisiones\n",
    "print(f\"Precisión en entrenamiento: {train_accuracy:.2f}\")\n",
    "print(f\"Precisión en prueba: {test_accuracy:.2f}\")\n",
    "\n",
    "\n",
    "cv_scores = cross_val_score(csp_rf, X_train, y_train, cv=5)\n",
    "\n",
    "print(f\"Precisión en cada pliegue: {cv_scores}\")\n",
    "print(f\"Precisión media: {np.mean(cv_scores):.2f}\")"
   ]
  },
  {
   "cell_type": "code",
   "execution_count": 20,
   "metadata": {},
   "outputs": [
    {
     "name": "stdout",
     "output_type": "stream",
     "text": [
      "Precisión en entrenamiento: 1.00\n",
      "Precisión en prueba: 0.36\n",
      "Precisión en cada pliegue: [0.64102564 0.58974359 0.64102564 0.66666667 0.69230769]\n",
      "Precisión media: 0.65\n"
     ]
    }
   ],
   "source": [
    "ft_rf = Pipeline([\n",
    "    ('ft', FourierTransform()),  # Transformada Wavelet Discreta\n",
    "    ('rf', RandomForestClassifier(n_estimators=100))        # Random Forest Classifier\n",
    "])\n",
    "\n",
    "\n",
    "ft_rf.fit(X_train_flattened, y_train)\n",
    "# Evaluar el modelo en el conjunto de prueba\n",
    "train_accuracy = ft_rf.score(X_train_flattened, y_train)\n",
    "test_accuracy = ft_rf.score(X_test_flattened, y_test)\n",
    "\n",
    "# Imprimir las precisiones\n",
    "print(f\"Precisión en entrenamiento: {train_accuracy:.2f}\")\n",
    "print(f\"Precisión en prueba: {test_accuracy:.2f}\")\n",
    "\n",
    "\n",
    "cv_scores = cross_val_score(ft_rf, X_train_flattened, y_train, cv=5)\n",
    "\n",
    "print(f\"Precisión en cada pliegue: {cv_scores}\")\n",
    "print(f\"Precisión media: {np.mean(cv_scores):.2f}\")"
   ]
  },
  {
   "cell_type": "code",
   "execution_count": 21,
   "metadata": {},
   "outputs": [
    {
     "name": "stdout",
     "output_type": "stream",
     "text": [
      "Precisión en entrenamiento: 1.00\n",
      "Precisión en prueba: 0.64\n",
      "Precisión en cada pliegue: [0.66666667 0.71794872 0.69230769 0.69230769 0.66666667]\n",
      "Precisión media: 0.69\n"
     ]
    }
   ],
   "source": [
    "wavelet_lr = Pipeline([\n",
    "    ('wavelet', WaveletTransform(wavelet='db4', level=4)),  # Transformada Wavelet Discreta\n",
    "    ('dslr', LogisticRegression(max_iter=10000))        # Random Forest Classifier\n",
    "])\n",
    "\n",
    "wavelet_csp_rf.fit(X_train, y_train)\n",
    "# Evaluar el modelo en el conjunto de prueba\n",
    "train_accuracy = wavelet_csp_rf.score(X_train, y_train)\n",
    "test_accuracy = wavelet_csp_rf.score(X_test, y_test)\n",
    "\n",
    "# Imprimir las precisiones\n",
    "print(f\"Precisión en entrenamiento: {train_accuracy:.2f}\")\n",
    "print(f\"Precisión en prueba: {test_accuracy:.2f}\")\n",
    "\n",
    "\n",
    "cv_scores = cross_val_score(wavelet_csp_rf, X_train, y_train, cv=5)\n",
    "\n",
    "print(f\"Precisión en cada pliegue: {cv_scores}\")\n",
    "print(f\"Precisión media: {np.mean(cv_scores):.2f}\")"
   ]
  },
  {
   "cell_type": "code",
   "execution_count": 22,
   "metadata": {},
   "outputs": [
    {
     "name": "stdout",
     "output_type": "stream",
     "text": [
      "Precisión en entrenamiento: 0.65\n",
      "Precisión en prueba: 0.64\n",
      "Precisión en cada pliegue: [0.64102564 0.64102564 0.64102564 0.64102564 0.66666667]\n",
      "Precisión media: 0.65\n"
     ]
    }
   ],
   "source": [
    "wavelet_lr = Pipeline([\n",
    "    ('wavelet', WaveletTransform(wavelet='db4', level=4)),  # Transformada Wavelet Discreta\n",
    "    ('svm', SVC(kernel='linear'))        # Random Forest Classifier\n",
    "])\n",
    "\n",
    "wavelet_lr.fit(X_train, y_train)\n",
    "# Evaluar el modelo en el conjunto de prueba\n",
    "train_accuracy = wavelet_lr.score(X_train, y_train)\n",
    "test_accuracy = wavelet_lr.score(X_test, y_test)\n",
    "\n",
    "# Imprimir las precisiones\n",
    "print(f\"Precisión en entrenamiento: {train_accuracy:.2f}\")\n",
    "print(f\"Precisión en prueba: {test_accuracy:.2f}\")\n",
    "\n",
    "\n",
    "cv_scores = cross_val_score(wavelet_lr, X_train, y_train, cv=5)\n",
    "\n",
    "print(f\"Precisión en cada pliegue: {cv_scores}\")\n",
    "print(f\"Precisión media: {np.mean(cv_scores):.2f}\")"
   ]
  },
  {
   "cell_type": "code",
   "execution_count": 7,
   "metadata": {},
   "outputs": [
    {
     "name": "stdout",
     "output_type": "stream",
     "text": [
      "Precisión en entrenamiento: 1.00\n",
      "Precisión en prueba: 0.64\n"
     ]
    }
   ],
   "source": [
    "mlp = Pipeline([\n",
    "    #('scaler', StandardScaler()),               # Paso 2: Estandarización\n",
    "    #('ica', FastICA(n_components=20, random_state=42)),  # Paso 3: Análisis de Componentes Independientes\n",
    "    #('pca', PCA(n_components=10)),              # Paso 4: Reducción de dimensionalidad con PCA\n",
    "    ('mlp', MLPClassifier(hidden_layer_sizes=(100, 50), max_iter=500))  # Paso 5: Red Neuronal\n",
    "])\n",
    "\n",
    "mlp.fit(X_train_flattened, y_train)\n",
    "# Evaluar el modelo en el conjunto de prueba\n",
    "train_accuracy = mlp.score(X_train_flattened, y_train)\n",
    "test_accuracy = mlp.score(X_test_flattened, y_test)\n",
    "\n",
    "# Imprimir las precisiones\n",
    "print(f\"Precisión en entrenamiento: {train_accuracy:.2f}\")\n",
    "print(f\"Precisión en prueba: {test_accuracy:.2f}\")\n",
    "\n",
    "\n",
    "cv_scores = cross_val_score(mlp, X_train_flattened, y_train, cv=5)\n",
    "\n",
    "print(f\"Precisión en cada pliegue: {cv_scores}\")\n",
    "print(f\"Precisión media: {np.mean(cv_scores):.2f}\")"
   ]
  },
  {
   "cell_type": "code",
   "execution_count": null,
   "metadata": {},
   "outputs": [],
   "source": []
  }
 ],
 "metadata": {
  "kernelspec": {
   "display_name": "Python 3",
   "language": "python",
   "name": "python3"
  },
  "language_info": {
   "codemirror_mode": {
    "name": "ipython",
    "version": 3
   },
   "file_extension": ".py",
   "mimetype": "text/x-python",
   "name": "python",
   "nbconvert_exporter": "python",
   "pygments_lexer": "ipython3",
   "version": "3.12.5"
  }
 },
 "nbformat": 4,
 "nbformat_minor": 2
}
