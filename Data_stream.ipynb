{
 "cells": [
  {
   "cell_type": "code",
   "execution_count": 2,
   "metadata": {},
   "outputs": [
    {
     "name": "stdout",
     "output_type": "stream",
     "text": [
      "Looking in indexes: https://pypi.python.org/simple\n",
      "Requirement already satisfied: mne==1.8.0 in /sgoinfre/students/imontero/miniforge3/lib/python3.12/site-packages (from -r requirements.txt (line 1)) (1.8.0)\n",
      "Requirement already satisfied: pandas==2.2.3 in /sgoinfre/students/imontero/miniforge3/lib/python3.12/site-packages (from -r requirements.txt (line 2)) (2.2.3)\n",
      "Requirement already satisfied: scikit-learn==1.5.2 in /sgoinfre/students/imontero/miniforge3/lib/python3.12/site-packages (from -r requirements.txt (line 3)) (1.5.2)\n",
      "Requirement already satisfied: PyWavelets==1.7.0 in /sgoinfre/students/imontero/miniforge3/lib/python3.12/site-packages (from -r requirements.txt (line 4)) (1.7.0)\n",
      "Requirement already satisfied: tensorflow==2.17.0 in /sgoinfre/students/imontero/miniforge3/lib/python3.12/site-packages (from -r requirements.txt (line 5)) (2.17.0)\n",
      "Requirement already satisfied: tensorflow-io-gcs-filesystem==0.37.1 in /sgoinfre/students/imontero/miniforge3/lib/python3.12/site-packages (from -r requirements.txt (line 6)) (0.37.1)\n",
      "Requirement already satisfied: decorator in /sgoinfre/students/imontero/miniforge3/lib/python3.12/site-packages (from mne==1.8.0->-r requirements.txt (line 1)) (5.1.1)\n",
      "Requirement already satisfied: jinja2 in /sgoinfre/students/imontero/miniforge3/lib/python3.12/site-packages (from mne==1.8.0->-r requirements.txt (line 1)) (3.1.4)\n",
      "Requirement already satisfied: lazy-loader>=0.3 in /sgoinfre/students/imontero/miniforge3/lib/python3.12/site-packages (from mne==1.8.0->-r requirements.txt (line 1)) (0.4)\n",
      "Requirement already satisfied: matplotlib>=3.6 in /sgoinfre/students/imontero/miniforge3/lib/python3.12/site-packages (from mne==1.8.0->-r requirements.txt (line 1)) (3.9.2)\n",
      "Requirement already satisfied: numpy<3,>=1.23 in /sgoinfre/students/imontero/miniforge3/lib/python3.12/site-packages (from mne==1.8.0->-r requirements.txt (line 1)) (1.26.4)\n",
      "Requirement already satisfied: packaging in /sgoinfre/students/imontero/miniforge3/lib/python3.12/site-packages (from mne==1.8.0->-r requirements.txt (line 1)) (24.1)\n",
      "Requirement already satisfied: pooch>=1.5 in /sgoinfre/students/imontero/miniforge3/lib/python3.12/site-packages (from mne==1.8.0->-r requirements.txt (line 1)) (1.8.2)\n",
      "Requirement already satisfied: scipy>=1.9 in /sgoinfre/students/imontero/miniforge3/lib/python3.12/site-packages (from mne==1.8.0->-r requirements.txt (line 1)) (1.14.1)\n",
      "Requirement already satisfied: tqdm in /sgoinfre/students/imontero/miniforge3/lib/python3.12/site-packages (from mne==1.8.0->-r requirements.txt (line 1)) (4.66.5)\n",
      "Requirement already satisfied: python-dateutil>=2.8.2 in /sgoinfre/students/imontero/miniforge3/lib/python3.12/site-packages (from pandas==2.2.3->-r requirements.txt (line 2)) (2.9.0.post0)\n",
      "Requirement already satisfied: pytz>=2020.1 in /sgoinfre/students/imontero/miniforge3/lib/python3.12/site-packages (from pandas==2.2.3->-r requirements.txt (line 2)) (2024.2)\n",
      "Requirement already satisfied: tzdata>=2022.7 in /sgoinfre/students/imontero/miniforge3/lib/python3.12/site-packages (from pandas==2.2.3->-r requirements.txt (line 2)) (2024.2)\n",
      "Requirement already satisfied: joblib>=1.2.0 in /sgoinfre/students/imontero/miniforge3/lib/python3.12/site-packages (from scikit-learn==1.5.2->-r requirements.txt (line 3)) (1.4.2)\n",
      "Requirement already satisfied: threadpoolctl>=3.1.0 in /sgoinfre/students/imontero/miniforge3/lib/python3.12/site-packages (from scikit-learn==1.5.2->-r requirements.txt (line 3)) (3.5.0)\n",
      "Requirement already satisfied: absl-py>=1.0.0 in /sgoinfre/students/imontero/miniforge3/lib/python3.12/site-packages (from tensorflow==2.17.0->-r requirements.txt (line 5)) (2.1.0)\n",
      "Requirement already satisfied: astunparse>=1.6.0 in /sgoinfre/students/imontero/miniforge3/lib/python3.12/site-packages (from tensorflow==2.17.0->-r requirements.txt (line 5)) (1.6.3)\n",
      "Requirement already satisfied: flatbuffers>=24.3.25 in /sgoinfre/students/imontero/miniforge3/lib/python3.12/site-packages (from tensorflow==2.17.0->-r requirements.txt (line 5)) (24.3.25)\n",
      "Requirement already satisfied: gast!=0.5.0,!=0.5.1,!=0.5.2,>=0.2.1 in /sgoinfre/students/imontero/miniforge3/lib/python3.12/site-packages (from tensorflow==2.17.0->-r requirements.txt (line 5)) (0.6.0)\n",
      "Requirement already satisfied: google-pasta>=0.1.1 in /sgoinfre/students/imontero/miniforge3/lib/python3.12/site-packages (from tensorflow==2.17.0->-r requirements.txt (line 5)) (0.2.0)\n",
      "Requirement already satisfied: h5py>=3.10.0 in /sgoinfre/students/imontero/miniforge3/lib/python3.12/site-packages (from tensorflow==2.17.0->-r requirements.txt (line 5)) (3.12.1)\n",
      "Requirement already satisfied: libclang>=13.0.0 in /sgoinfre/students/imontero/miniforge3/lib/python3.12/site-packages (from tensorflow==2.17.0->-r requirements.txt (line 5)) (18.1.1)\n",
      "Requirement already satisfied: ml-dtypes<0.5.0,>=0.3.1 in /sgoinfre/students/imontero/miniforge3/lib/python3.12/site-packages (from tensorflow==2.17.0->-r requirements.txt (line 5)) (0.4.1)\n",
      "Requirement already satisfied: opt-einsum>=2.3.2 in /sgoinfre/students/imontero/miniforge3/lib/python3.12/site-packages (from tensorflow==2.17.0->-r requirements.txt (line 5)) (3.4.0)\n",
      "Requirement already satisfied: protobuf!=4.21.0,!=4.21.1,!=4.21.2,!=4.21.3,!=4.21.4,!=4.21.5,<5.0.0dev,>=3.20.3 in /sgoinfre/students/imontero/miniforge3/lib/python3.12/site-packages (from tensorflow==2.17.0->-r requirements.txt (line 5)) (4.25.5)\n",
      "Requirement already satisfied: requests<3,>=2.21.0 in /sgoinfre/students/imontero/miniforge3/lib/python3.12/site-packages (from tensorflow==2.17.0->-r requirements.txt (line 5)) (2.32.3)\n",
      "Requirement already satisfied: setuptools in /sgoinfre/students/imontero/miniforge3/lib/python3.12/site-packages (from tensorflow==2.17.0->-r requirements.txt (line 5)) (73.0.1)\n",
      "Requirement already satisfied: six>=1.12.0 in /sgoinfre/students/imontero/miniforge3/lib/python3.12/site-packages (from tensorflow==2.17.0->-r requirements.txt (line 5)) (1.16.0)\n",
      "Requirement already satisfied: termcolor>=1.1.0 in /sgoinfre/students/imontero/miniforge3/lib/python3.12/site-packages (from tensorflow==2.17.0->-r requirements.txt (line 5)) (2.5.0)\n",
      "Requirement already satisfied: typing-extensions>=3.6.6 in /sgoinfre/students/imontero/miniforge3/lib/python3.12/site-packages (from tensorflow==2.17.0->-r requirements.txt (line 5)) (4.12.2)\n",
      "Requirement already satisfied: wrapt>=1.11.0 in /sgoinfre/students/imontero/miniforge3/lib/python3.12/site-packages (from tensorflow==2.17.0->-r requirements.txt (line 5)) (1.16.0)\n",
      "Requirement already satisfied: grpcio<2.0,>=1.24.3 in /sgoinfre/students/imontero/miniforge3/lib/python3.12/site-packages (from tensorflow==2.17.0->-r requirements.txt (line 5)) (1.66.2)\n",
      "Requirement already satisfied: tensorboard<2.18,>=2.17 in /sgoinfre/students/imontero/miniforge3/lib/python3.12/site-packages (from tensorflow==2.17.0->-r requirements.txt (line 5)) (2.17.1)\n",
      "Requirement already satisfied: keras>=3.2.0 in /sgoinfre/students/imontero/miniforge3/lib/python3.12/site-packages (from tensorflow==2.17.0->-r requirements.txt (line 5)) (3.6.0)\n",
      "Requirement already satisfied: wheel<1.0,>=0.23.0 in /sgoinfre/students/imontero/miniforge3/lib/python3.12/site-packages (from astunparse>=1.6.0->tensorflow==2.17.0->-r requirements.txt (line 5)) (0.44.0)\n",
      "Requirement already satisfied: rich in /sgoinfre/students/imontero/miniforge3/lib/python3.12/site-packages (from keras>=3.2.0->tensorflow==2.17.0->-r requirements.txt (line 5)) (13.9.2)\n",
      "Requirement already satisfied: namex in /sgoinfre/students/imontero/miniforge3/lib/python3.12/site-packages (from keras>=3.2.0->tensorflow==2.17.0->-r requirements.txt (line 5)) (0.0.8)\n",
      "Requirement already satisfied: optree in /sgoinfre/students/imontero/miniforge3/lib/python3.12/site-packages (from keras>=3.2.0->tensorflow==2.17.0->-r requirements.txt (line 5)) (0.13.0)\n",
      "Requirement already satisfied: contourpy>=1.0.1 in /sgoinfre/students/imontero/miniforge3/lib/python3.12/site-packages (from matplotlib>=3.6->mne==1.8.0->-r requirements.txt (line 1)) (1.3.0)\n",
      "Requirement already satisfied: cycler>=0.10 in /sgoinfre/students/imontero/miniforge3/lib/python3.12/site-packages (from matplotlib>=3.6->mne==1.8.0->-r requirements.txt (line 1)) (0.12.1)\n",
      "Requirement already satisfied: fonttools>=4.22.0 in /sgoinfre/students/imontero/miniforge3/lib/python3.12/site-packages (from matplotlib>=3.6->mne==1.8.0->-r requirements.txt (line 1)) (4.54.1)\n",
      "Requirement already satisfied: kiwisolver>=1.3.1 in /sgoinfre/students/imontero/miniforge3/lib/python3.12/site-packages (from matplotlib>=3.6->mne==1.8.0->-r requirements.txt (line 1)) (1.4.7)\n",
      "Requirement already satisfied: pillow>=8 in /sgoinfre/students/imontero/miniforge3/lib/python3.12/site-packages (from matplotlib>=3.6->mne==1.8.0->-r requirements.txt (line 1)) (10.4.0)\n",
      "Requirement already satisfied: pyparsing>=2.3.1 in /sgoinfre/students/imontero/miniforge3/lib/python3.12/site-packages (from matplotlib>=3.6->mne==1.8.0->-r requirements.txt (line 1)) (3.1.4)\n",
      "Requirement already satisfied: platformdirs>=2.5.0 in /sgoinfre/students/imontero/miniforge3/lib/python3.12/site-packages (from pooch>=1.5->mne==1.8.0->-r requirements.txt (line 1)) (4.2.2)\n",
      "Requirement already satisfied: charset-normalizer<4,>=2 in /sgoinfre/students/imontero/miniforge3/lib/python3.12/site-packages (from requests<3,>=2.21.0->tensorflow==2.17.0->-r requirements.txt (line 5)) (3.3.2)\n",
      "Requirement already satisfied: idna<4,>=2.5 in /sgoinfre/students/imontero/miniforge3/lib/python3.12/site-packages (from requests<3,>=2.21.0->tensorflow==2.17.0->-r requirements.txt (line 5)) (3.10)\n",
      "Requirement already satisfied: urllib3<3,>=1.21.1 in /sgoinfre/students/imontero/miniforge3/lib/python3.12/site-packages (from requests<3,>=2.21.0->tensorflow==2.17.0->-r requirements.txt (line 5)) (2.2.3)\n",
      "Requirement already satisfied: certifi>=2017.4.17 in /sgoinfre/students/imontero/miniforge3/lib/python3.12/site-packages (from requests<3,>=2.21.0->tensorflow==2.17.0->-r requirements.txt (line 5)) (2024.8.30)\n",
      "Requirement already satisfied: markdown>=2.6.8 in /sgoinfre/students/imontero/miniforge3/lib/python3.12/site-packages (from tensorboard<2.18,>=2.17->tensorflow==2.17.0->-r requirements.txt (line 5)) (3.7)\n",
      "Requirement already satisfied: tensorboard-data-server<0.8.0,>=0.7.0 in /sgoinfre/students/imontero/miniforge3/lib/python3.12/site-packages (from tensorboard<2.18,>=2.17->tensorflow==2.17.0->-r requirements.txt (line 5)) (0.7.2)\n",
      "Requirement already satisfied: werkzeug>=1.0.1 in /sgoinfre/students/imontero/miniforge3/lib/python3.12/site-packages (from tensorboard<2.18,>=2.17->tensorflow==2.17.0->-r requirements.txt (line 5)) (3.0.4)\n",
      "Requirement already satisfied: MarkupSafe>=2.0 in /sgoinfre/students/imontero/miniforge3/lib/python3.12/site-packages (from jinja2->mne==1.8.0->-r requirements.txt (line 1)) (2.1.5)\n",
      "Requirement already satisfied: markdown-it-py>=2.2.0 in /sgoinfre/students/imontero/miniforge3/lib/python3.12/site-packages (from rich->keras>=3.2.0->tensorflow==2.17.0->-r requirements.txt (line 5)) (3.0.0)\n",
      "Requirement already satisfied: pygments<3.0.0,>=2.13.0 in /sgoinfre/students/imontero/miniforge3/lib/python3.12/site-packages (from rich->keras>=3.2.0->tensorflow==2.17.0->-r requirements.txt (line 5)) (2.18.0)\n",
      "Requirement already satisfied: mdurl~=0.1 in /sgoinfre/students/imontero/miniforge3/lib/python3.12/site-packages (from markdown-it-py>=2.2.0->rich->keras>=3.2.0->tensorflow==2.17.0->-r requirements.txt (line 5)) (0.1.2)\n"
     ]
    }
   ],
   "source": [
    "!pip install -r requirements.txt"
   ]
  },
  {
   "cell_type": "code",
   "execution_count": 18,
   "metadata": {},
   "outputs": [],
   "source": [
    "import mne\n",
    "import warnings\n",
    "import numpy as np\n",
    "import time\n",
    "from datetime import datetime\n",
    "\n",
    "\n",
    "from sklearn.pipeline import Pipeline\n",
    "from sklearn.preprocessing import StandardScaler\n",
    "from sklearn.decomposition import PCA\n",
    "from sklearn.exceptions import ConvergenceWarning\n",
    "from sklearn.neural_network import MLPClassifier\n",
    "\n",
    "from utils.Preprocessing import load_and_preprocess_data\n"
   ]
  },
  {
   "cell_type": "code",
   "execution_count": 10,
   "metadata": {},
   "outputs": [],
   "source": [
    "mne.set_log_level(\"CRITICAL\")\n",
    "\n",
    "# Suppress warnings from LogisticRegression and CSP\n",
    "warnings.filterwarnings(\"ignore\", category=UserWarning, module='sklearn.linear_model._logistic')\n",
    "warnings.filterwarnings(\"ignore\", category=ConvergenceWarning)\n",
    "warnings.filterwarnings(\"ignore\", category=UserWarning, module='mne')"
   ]
  },
  {
   "cell_type": "code",
   "execution_count": 11,
   "metadata": {},
   "outputs": [],
   "source": [
    "def train_model_pipeline(X_train_flattened, y_train):\n",
    "\n",
    "    pipeline = Pipeline([\n",
    "        ('scaler', StandardScaler()),               \n",
    "        ('pca', PCA(n_components=10)),\n",
    "        ('mlp', MLPClassifier(hidden_layer_sizes=(500, 50), max_iter=100))\n",
    "    ])\n",
    "\n",
    "    model = pipeline.fit(X_train_flattened, y_train)\n",
    "\n",
    "    return model\n"
   ]
  },
  {
   "cell_type": "code",
   "execution_count": 12,
   "metadata": {},
   "outputs": [],
   "source": [
    "# Define subjects and runs for training and testing\n",
    "train_subjects = [57, 22, 86]\n",
    "train_tasks = {\n",
    "    'Task 1:\"Open and close fist\"': [3, 7, 11],\n",
    "    'Task 2:\"Imagine opening and closing fist\"': [4, 8, 12],\n",
    "    'Task 3:\"Open and close fists or feet\"': [5, 9, 13],\n",
    "    'Task 4:\"Imagine opening and closing fists or feet\"': [6, 10, 14]\n",
    "}\n",
    "\n",
    "test_subjects = [34]\n",
    "test_tasks = {\n",
    "    'Task 1:\"Open and close fist\"': [3],\n",
    "    'Task 2:\"Imagine opening and closing fist\"': [4],\n",
    "    'Task 3:\"Open and close fists or feet\"': [5],\n",
    "    'Task 4:\"Imagine opening and closing fists or feet\"': [6]\n",
    "}"
   ]
  },
  {
   "cell_type": "code",
   "execution_count": 13,
   "metadata": {},
   "outputs": [],
   "source": [
    "test_subject = [1]\n",
    "task_name = 'Task 3:\"Open and close fists or feet\"'\n",
    "test_run = [5]"
   ]
  },
  {
   "cell_type": "code",
   "execution_count": 14,
   "metadata": {},
   "outputs": [],
   "source": [
    "train_epochs = load_and_preprocess_data(train_subjects, train_tasks[task_name])\n",
    "\n",
    "X_train = train_epochs.get_data().astype('float64')\n",
    "y_train = train_epochs.events[:, -1]\n",
    "\n",
    "X_train_flattened = X_train.reshape(X_train.shape[0], -1)\n",
    "\n",
    "model = train_model_pipeline(X_train_flattened, y_train)"
   ]
  },
  {
   "cell_type": "code",
   "execution_count": 15,
   "metadata": {},
   "outputs": [],
   "source": [
    "test_epochs = load_and_preprocess_data(test_subject, test_run)\n",
    "\n",
    "X_test = test_epochs.get_data().astype('float64')\n",
    "y_test = test_epochs.events[:, -1]\n",
    "\n",
    "X_test_flattened = X_test.reshape(X_test.shape[0], -1)"
   ]
  },
  {
   "cell_type": "code",
   "execution_count": 32,
   "metadata": {},
   "outputs": [
    {
     "name": "stdout",
     "output_type": "stream",
     "text": [
      "Data stream incoming...\n",
      "Analyzing...\n",
      "Epoch     Time Stamp          Real movement  Predicted movement  Result    \n",
      "1         00:00:00.007        fists          fists               Success   \n",
      "2         00:00:01.015        feet           feet                Success   \n",
      "3         00:00:02.023        fists          fists               Success   \n",
      "4         00:00:03.031        fists          fists               Success   \n",
      "5         00:00:04.039        feet           feet                Success   \n",
      "6         00:00:05.047        fists          feet                Fail      \n",
      "7         00:00:06.053        fists          fists               Success   \n",
      "8         00:00:07.062        feet           fists               Fail      \n",
      "9         00:00:08.069        fists          fists               Success   \n",
      "10        00:00:09.078        feet           feet                Success   \n",
      "11        00:00:10.084        fists          fists               Success   \n",
      "12        00:00:11.092        fists          feet                Fail      \n",
      "13        00:00:12.101        fists          fists               Success   \n",
      "14        00:00:13.109        feet           feet                Success   \n",
      "15        00:00:14.117        fists          fists               Success   \n",
      "16        00:00:15.124        fists          fists               Success   \n",
      "17        00:00:16.130        feet           feet                Success   \n",
      "18        00:00:17.137        fists          fists               Success   \n",
      "19        00:00:18.145        feet           fists               Fail      \n",
      "20        00:00:19.153        fists          fists               Success   \n",
      "21        00:00:20.161        fists          feet                Fail      \n",
      "22        00:00:21.168        feet           feet                Success   \n",
      "\n",
      "Analysis complete!\n",
      "\n",
      "Accuracy: 77.27%\n"
     ]
    }
   ],
   "source": [
    "correct_predictions = 0\n",
    "total_samples = X_test_flattened.shape[0]\n",
    "\n",
    "print(\"Data stream incoming...\")\n",
    "time.sleep(1)\n",
    "print(\"Analyzing...\")\n",
    "time.sleep(1)\n",
    "\n",
    "start_time = time.time()\n",
    "\n",
    "print(f\"{'Epoch':<10}{'Time Stamp':<20}{'Real movement':<15}{'Predicted movement':<20}{'Result':<10}\")\n",
    "\n",
    "\n",
    "for i in range(X_test_flattened.shape[0]):\n",
    "    single_sample = X_test_flattened[i].reshape(1, -1)\n",
    "    prediction = model.predict(single_sample)\n",
    "    real_label = y_test[i]\n",
    "    \n",
    "    elapsed_time = time.time() - start_time\n",
    "\n",
    "    elapsed_time_str = time.strftime(\"%H:%M:%S\", time.gmtime(elapsed_time))\n",
    "    milliseconds = int((elapsed_time % 1) * 1000)\n",
    "    elapsed_time_str = f\"{elapsed_time_str}.{milliseconds:03d}\"\n",
    "\n",
    "    result = \"Success\" if prediction[0] == real_label else \"Fail\"\n",
    "    if result == \"Success\":\n",
    "        correct_predictions += 1\n",
    "    \n",
    "    print(f\"{i+1:<10}{elapsed_time_str:<20}{'fists' if real_label == 1 else 'feet':<15}{'fists' if prediction[0] == 1 else 'feet':<20}{result:<10}\")\n",
    "    \n",
    "    time.sleep(1)\n",
    "\n",
    "print(\"\\nAnalysis complete!\")\n",
    "accuracy = correct_predictions / total_samples * 100\n",
    "print(f\"\\nAccuracy: {accuracy:.2f}%\")"
   ]
  },
  {
   "cell_type": "code",
   "execution_count": null,
   "metadata": {},
   "outputs": [],
   "source": []
  }
 ],
 "metadata": {
  "kernelspec": {
   "display_name": "Python 3",
   "language": "python",
   "name": "python3"
  },
  "language_info": {
   "codemirror_mode": {
    "name": "ipython",
    "version": 3
   },
   "file_extension": ".py",
   "mimetype": "text/x-python",
   "name": "python",
   "nbconvert_exporter": "python",
   "pygments_lexer": "ipython3",
   "version": "3.11.0"
  }
 },
 "nbformat": 4,
 "nbformat_minor": 2
}
