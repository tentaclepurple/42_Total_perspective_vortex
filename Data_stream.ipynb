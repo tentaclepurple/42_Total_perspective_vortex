{
 "cells": [
  {
   "cell_type": "code",
   "execution_count": 1,
   "metadata": {},
   "outputs": [],
   "source": [
    "import mne\n",
    "import warnings\n",
    "import time\n",
    "\n",
    "from sklearn.pipeline import Pipeline\n",
    "from sklearn.preprocessing import StandardScaler\n",
    "from sklearn.decomposition import PCA\n",
    "from sklearn.exceptions import ConvergenceWarning\n",
    "from sklearn.neural_network import MLPClassifier\n",
    "\n",
    "from utils.Preprocessing import load_and_preprocess_data"
   ]
  },
  {
   "cell_type": "code",
   "execution_count": 2,
   "metadata": {},
   "outputs": [],
   "source": [
    "mne.set_log_level(\"CRITICAL\")\n",
    "\n",
    "# Suppress warnings from LogisticRegression and CSP\n",
    "warnings.filterwarnings(\"ignore\", category=UserWarning, module='sklearn.linear_model._logistic')\n",
    "warnings.filterwarnings(\"ignore\", category=ConvergenceWarning)\n",
    "warnings.filterwarnings(\"ignore\", category=UserWarning, module='mne')"
   ]
  },
  {
   "cell_type": "code",
   "execution_count": 3,
   "metadata": {},
   "outputs": [],
   "source": [
    "def train_model_pipeline(X_train_flattened, y_train):\n",
    "\n",
    "    pipeline = Pipeline([\n",
    "        ('scaler', StandardScaler()),               \n",
    "        ('pca', PCA(n_components=10)),\n",
    "        ('mlp', MLPClassifier(hidden_layer_sizes=(500, 50), max_iter=100))\n",
    "    ])\n",
    "\n",
    "    model = pipeline.fit(X_train_flattened, y_train)\n",
    "\n",
    "    return model\n"
   ]
  },
  {
   "cell_type": "code",
   "execution_count": 4,
   "metadata": {},
   "outputs": [],
   "source": [
    "# Define subjects and runs for training and testing\n",
    "train_subjects = [57, 22, 86]\n",
    "train_tasks = {\n",
    "    'Task 1:\"Open and close fist\"': [3, 7, 11],\n",
    "    'Task 2:\"Imagine opening and closing fist\"': [4, 8, 12],\n",
    "    'Task 3:\"Open and close fists or feet\"': [5, 9, 13],\n",
    "    'Task 4:\"Imagine opening and closing fists or feet\"': [6, 10, 14]\n",
    "}\n",
    "\n",
    "test_subjects = [34]\n",
    "test_tasks = {\n",
    "    'Task 1:\"Open and close fist\"': [3],\n",
    "    'Task 2:\"Imagine opening and closing fist\"': [4],\n",
    "    'Task 3:\"Open and close fists or feet\"': [5],\n",
    "    'Task 4:\"Imagine opening and closing fists or feet\"': [6]\n",
    "}"
   ]
  },
  {
   "cell_type": "code",
   "execution_count": 5,
   "metadata": {},
   "outputs": [],
   "source": [
    "test_subject = [1]\n",
    "task_name = 'Task 3:\"Open and close fists or feet\"'\n",
    "test_run = [5]"
   ]
  },
  {
   "cell_type": "code",
   "execution_count": 6,
   "metadata": {},
   "outputs": [],
   "source": [
    "train_epochs = load_and_preprocess_data(train_subjects, train_tasks[task_name])\n",
    "\n",
    "X_train = train_epochs.get_data().astype('float64')\n",
    "y_train = train_epochs.events[:, -1]\n",
    "\n",
    "X_train_flattened = X_train.reshape(X_train.shape[0], -1)\n",
    "\n",
    "model = train_model_pipeline(X_train_flattened, y_train)"
   ]
  },
  {
   "cell_type": "code",
   "execution_count": 7,
   "metadata": {},
   "outputs": [],
   "source": [
    "test_epochs = load_and_preprocess_data(test_subject, test_run)\n",
    "\n",
    "X_test = test_epochs.get_data().astype('float64')\n",
    "y_test = test_epochs.events[:, -1]\n",
    "\n",
    "X_test_flattened = X_test.reshape(X_test.shape[0], -1)"
   ]
  },
  {
   "cell_type": "code",
   "execution_count": 8,
   "metadata": {},
   "outputs": [
    {
     "name": "stdout",
     "output_type": "stream",
     "text": [
      "Data stream incoming...\n",
      "Analyzing...\n",
      "Epoch     Time Stamp          Real movement  Predicted movement  Result    \n",
      "1         00:00:00.000        fists          fists               Success   \n",
      "2         00:00:01.009        feet           feet                Success   \n",
      "3         00:00:02.016        fists          fists               Success   \n",
      "4         00:00:03.020        fists          fists               Success   \n",
      "5         00:00:04.024        feet           feet                Success   \n",
      "6         00:00:05.026        fists          feet                Fail      \n",
      "7         00:00:06.033        fists          fists               Success   \n",
      "8         00:00:07.041        feet           fists               Fail      \n",
      "9         00:00:08.042        fists          fists               Success   \n",
      "10        00:00:09.051        feet           feet                Success   \n",
      "11        00:00:10.057        fists          fists               Success   \n",
      "12        00:00:11.061        fists          feet                Fail      \n",
      "13        00:00:12.066        fists          fists               Success   \n",
      "14        00:00:13.069        feet           feet                Success   \n",
      "15        00:00:14.072        fists          fists               Success   \n",
      "16        00:00:15.078        fists          fists               Success   \n",
      "17        00:00:16.084        feet           feet                Success   \n",
      "18        00:00:17.085        fists          fists               Success   \n",
      "19        00:00:18.090        feet           feet                Success   \n",
      "20        00:00:19.093        fists          fists               Success   \n",
      "21        00:00:20.097        fists          fists               Success   \n",
      "22        00:00:21.100        feet           feet                Success   \n",
      "\n",
      "Analysis complete!\n",
      "\n",
      "Accuracy: 86.36%\n"
     ]
    }
   ],
   "source": [
    "correct_predictions = 0\n",
    "total_samples = X_test_flattened.shape[0]\n",
    "\n",
    "print(\"Data stream incoming...\")\n",
    "time.sleep(1)\n",
    "print(\"Analyzing...\")\n",
    "time.sleep(1)\n",
    "\n",
    "start_time = time.time()\n",
    "\n",
    "print(f\"{'Epoch':<10}{'Time Stamp':<20}{'Real movement':<15}{'Predicted movement':<20}{'Result':<10}\")\n",
    "\n",
    "\n",
    "for i in range(X_test_flattened.shape[0]):\n",
    "    single_sample = X_test_flattened[i].reshape(1, -1)\n",
    "    prediction = model.predict(single_sample)\n",
    "    real_label = y_test[i]\n",
    "    \n",
    "    elapsed_time = time.time() - start_time\n",
    "\n",
    "    elapsed_time_str = time.strftime(\"%H:%M:%S\", time.gmtime(elapsed_time))\n",
    "    milliseconds = int((elapsed_time % 1) * 1000)\n",
    "    elapsed_time_str = f\"{elapsed_time_str}.{milliseconds:03d}\"\n",
    "\n",
    "    result = \"Success\" if prediction[0] == real_label else \"Fail\"\n",
    "    if result == \"Success\":\n",
    "        correct_predictions += 1\n",
    "    \n",
    "    print(f\"{i+1:<10}{elapsed_time_str:<20}{'fists' if real_label == 1 else 'feet':<15}{'fists' if prediction[0] == 1 else 'feet':<20}{result:<10}\")\n",
    "    \n",
    "    time.sleep(1)\n",
    "\n",
    "print(\"\\nAnalysis complete!\")\n",
    "accuracy = correct_predictions / total_samples * 100\n",
    "print(f\"\\nAccuracy: {accuracy:.2f}%\")"
   ]
  },
  {
   "cell_type": "code",
   "execution_count": null,
   "metadata": {},
   "outputs": [],
   "source": []
  }
 ],
 "metadata": {
  "kernelspec": {
   "display_name": "Python 3",
   "language": "python",
   "name": "python3"
  },
  "language_info": {
   "codemirror_mode": {
    "name": "ipython",
    "version": 3
   },
   "file_extension": ".py",
   "mimetype": "text/x-python",
   "name": "python",
   "nbconvert_exporter": "python",
   "pygments_lexer": "ipython3",
   "version": "3.11.0"
  }
 },
 "nbformat": 4,
 "nbformat_minor": 2
}
